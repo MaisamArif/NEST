{
 "cells": [
  {
   "cell_type": "code",
   "execution_count": 1,
   "metadata": {
    "collapsed": false
   },
   "outputs": [
    {
     "name": "stdout",
     "output_type": "stream",
     "text": [
      "[0.35980551053484605, 0.3646677471636953, 0.2755267423014587, 0.0]\n"
     ]
    }
   ],
   "source": [
    "import random\n",
    "import numpy as np\n",
    "\n",
    "def normalize(arr):\n",
    "    s = sum(arr)\n",
    "\n",
    "    if s == 0:\n",
    "        s = 1\n",
    "        arr[0] = 1\n",
    "    \n",
    "    for i, val in enumerate(arr):\n",
    "        arr[i] = val/s\n",
    "    return arr\n",
    "\n",
    "\n",
    "def generate(width, height):\n",
    "    matrix = []\n",
    "\n",
    "    for i in range(height):\n",
    "        matrix.append([])\n",
    "\n",
    "        for j in range(width):\n",
    "            matrix[i].append(float(random.randint(0, 1000))/1000)\n",
    "\n",
    "        matrix[i] = normalize(matrix[i])\n",
    "\n",
    "        matrix[i] = [round(x, 3) for x in matrix[i]]\n",
    "        \n",
    "    return np.matrix(matrix)\n",
    "\n",
    "generate(4,4)\n",
    "\n",
    "\n",
    "print normalize([.444,.45, .34, .0])"
   ]
  },
  {
   "cell_type": "code",
   "execution_count": 2,
   "metadata": {
    "collapsed": false
   },
   "outputs": [
    {
     "data": {
      "text/plain": [
       "([matrix([[ 0.341,  0.384,  0.022,  0.253],\n",
       "          [ 0.346,  0.087,  0.299,  0.267],\n",
       "          [ 0.173,  0.266,  0.245,  0.316],\n",
       "          [ 0.447,  0.252,  0.296,  0.004]]),\n",
       "  matrix([[ 0.322,  0.422,  0.242,  0.014],\n",
       "          [ 0.371,  0.305,  0.138,  0.186],\n",
       "          [ 0.036,  0.375,  0.228,  0.361],\n",
       "          [ 0.322,  0.116,  0.41 ,  0.152]]),\n",
       "  matrix([[ 0.429,  0.145,  0.227,  0.2  ],\n",
       "          [ 0.022,  0.417,  0.301,  0.26 ],\n",
       "          [ 0.377,  0.208,  0.308,  0.107],\n",
       "          [ 0.311,  0.122,  0.28 ,  0.287]]),\n",
       "  matrix([[ 0.33 ,  0.104,  0.519,  0.047],\n",
       "          [ 0.415,  0.39 ,  0.105,  0.09 ],\n",
       "          [ 0.029,  0.428,  0.084,  0.46 ],\n",
       "          [ 0.332,  0.081,  0.384,  0.204]])],\n",
       " [[0.0, 1.0], [1.0, 0.0]])"
      ]
     },
     "execution_count": 2,
     "metadata": {},
     "output_type": "execute_result"
    }
   ],
   "source": [
    "#input:num characters\n",
    "#output: num personality matricies, and closeness vectors\n",
    "\n",
    "def initialize(num):\n",
    "    out_matricies = []\n",
    "    \n",
    "    for i in range(num * 2):\n",
    "        out_matricies.append(generate(4,4))\n",
    "    \n",
    "    closeness_vectors = []\n",
    "    for x in range(num):\n",
    "        close_vector = []\n",
    "        for i in range(num):\n",
    "            if i == x:\n",
    "                close_vector.append(float(0))\n",
    "            else:\n",
    "                close_vector.append(float(random.randint(0,1000))/1000)\n",
    "        closeness_vectors.append(normalize(close_vector))\n",
    "    return out_matricies, closeness_vectors\n",
    "\n",
    "initialize(2)"
   ]
  },
  {
   "cell_type": "code",
   "execution_count": 3,
   "metadata": {
    "collapsed": true
   },
   "outputs": [],
   "source": [
    "def traverse_row(matrix):\n",
    "    rand  = float(random.randint(0,1000))/1000\n",
    "    count = 0\n",
    "    for i, elem in enumerate(matrix):\n",
    "        if rand > count and rand < count + elem:\n",
    "            return i\n",
    "        count += elem\n",
    "    return len(matrix) - 1\n",
    "\n",
    "def translate(num):\n",
    "    if num == 0:\n",
    "        return \"Happy\"\n",
    "    if num == 1:\n",
    "        return \"Sad\"\n",
    "    if num == 2:\n",
    "        return \"Angry\"\n",
    "    if num == 3:\n",
    "        return \"Fear\"     \n",
    "    \n",
    "def translate_to_num(string):\n",
    "    if num == \"Happy\":\n",
    "        return 0\n",
    "    if num == \"Sad\":\n",
    "        return 1\n",
    "    if num == \"Angry\":\n",
    "        return 2\n",
    "    if num == \"Fear\":\n",
    "        return 3     "
   ]
  },
  {
   "cell_type": "code",
   "execution_count": 4,
   "metadata": {
    "collapsed": false
   },
   "outputs": [],
   "source": [
    "#This takes in one character, all the other characters in the frame, and all the matricies for \n",
    "#every character\n",
    "\n",
    "def new_emotion_one_character(character_acting_id,    #id of acting character in frame\n",
    "                              character_in_frame_ids, #id of other characters in frame\n",
    "                              char_emotions,          #array of emotions of characters in frame\n",
    "                              personality_matricies,  #array of personality matricies of characters in frame\n",
    "                              impact_matricies,       #array of impact matricies of characters in frame\n",
    "                              socialbility_params,    #array of socialbility of characters in frame\n",
    "                              closeness_vectors):     #array of closeness vectors of characters in frame\n",
    "    \n",
    "    if len(character_in_frame_ids) == 0:\n",
    "        P0   = personality_matricies[character_acting_id]\n",
    "        emo0 = char_emotions[character_acting_id]\n",
    "        \n",
    "        if random.randint(0,1) == 1:\n",
    "            position_and_direction = ['right', 'left']\n",
    "        else:\n",
    "            position_and_direction = ['left', 'right']\n",
    "        \n",
    "        return (traverse_row(P0.A[emo0]),position_and_direction)\n",
    "    \n",
    "    else:\n",
    "        P0   = personality_matricies[character_acting_id]\n",
    "        emo0 = char_emotions[character_acting_id]\n",
    "        s0   = socialbility_params[character_acting_id]\n",
    "        \n",
    "        if random.randint(0,1) == 1:\n",
    "            position_and_direction = ['right', 'left']\n",
    "        else:\n",
    "            position_and_direction = ['left', 'right']\n",
    "        \n",
    "        total_influence = np.matrix([[0.0, 0.0, 0.0, 0.0],\n",
    "                                     [0.0, 0.0, 0.0, 0.0],\n",
    "                                     [0.0, 0.0, 0.0, 0.0],\n",
    "                                     [0.0, 0.0, 0.0, 0.0]])\n",
    "        \n",
    "        for elem in character_in_frame_ids:\n",
    "            M = impact_matricies[elem].A[char_emotions[elem]]\n",
    "            v = closeness_vectors[character_acting_id][elem]\n",
    "            M = np.repeat(M[np.newaxis,:], 4, 0)\n",
    "            total_influence += v*M\n",
    "    \n",
    "        transition_matrix = (1-s0) * P0 + s0 *(total_influence)\n",
    "    \n",
    "        #return(traverse_row(transition_matrix.A[emo0]), position_and_direction)\n",
    "        return(traverse_row(transition_matrix.A[emo0]), transition_matrix)\n",
    "    "
   ]
  },
  {
   "cell_type": "code",
   "execution_count": 5,
   "metadata": {
    "collapsed": false
   },
   "outputs": [
    {
     "name": "stdout",
     "output_type": "stream",
     "text": [
      "Before:\n",
      "char0\n",
      "Personality Matrix 0:\n",
      "[[ 0.095  0.283  0.358  0.264]\n",
      " [ 0.461  0.32   0.019  0.2  ]\n",
      " [ 0.374  0.06   0.387  0.179]\n",
      " [ 0.365  0.458  0.149  0.028]]\n",
      "Impact Matrix 0:\n",
      "[[ 0.351  0.238  0.214  0.198]\n",
      " [ 0.406  0.078  0.397  0.119]\n",
      " [ 0.233  0.599  0.147  0.022]\n",
      " [ 0.202  0.32   0.353  0.125]]\n",
      "emotion: Happy\n",
      "\n",
      "char1\n",
      "Personality Matrix 1:\n",
      "[[ 0.286  0.445  0.108  0.161]\n",
      " [ 0.087  0.295  0.158  0.46 ]\n",
      " [ 0.274  0.291  0.267  0.168]\n",
      " [ 0.125  0.213  0.407  0.255]]\n",
      "Impact Matrix 1:\n",
      "[[ 0.326  0.056  0.171  0.448]\n",
      " [ 0.137  0.404  0.071  0.388]\n",
      " [ 0.334  0.233  0.135  0.297]\n",
      " [ 0.405  0.287  0.1    0.208]]\n",
      "emotion: Happy\n",
      "\n",
      "char2\n",
      "Personality Matrix 2:\n",
      "[[ 0.127  0.384  0.204  0.285]\n",
      " [ 0.249  0.427  0.309  0.015]\n",
      " [ 0.204  0.362  0.224  0.211]\n",
      " [ 0.453  0.151  0.151  0.245]]\n",
      "Impact Matrix 2:\n",
      "[[ 0.428  0.112  0.062  0.398]\n",
      " [ 0.398  0.195  0.38   0.028]\n",
      " [ 0.437  0.33   0.122  0.111]\n",
      " [ 0.256  0.257  0.306  0.181]]\n",
      "emotion: Happy\n"
     ]
    }
   ],
   "source": [
    "matrixes = initialize(3)\n",
    "list1, list2 = matrixes\n",
    "p0, im0, p1, im1, p2, im2 = list1\n",
    "v0, v1, v2 = list2\n",
    "soc0 = .3\n",
    "soc1 = .4\n",
    "soc2 = .5\n",
    "emo0 = 0\n",
    "emo1 = 0\n",
    "emo2 = 0\n",
    "\n",
    "print \"Before:\"\n",
    "print \"char0\"\n",
    "print \"Personality Matrix 0:\"\n",
    "print p0\n",
    "print \"Impact Matrix 0:\"\n",
    "print im0\n",
    "print \"emotion:\", translate(emo0)\n",
    "print\n",
    "print \"char1\"\n",
    "print \"Personality Matrix 1:\"\n",
    "print p1\n",
    "print \"Impact Matrix 1:\"\n",
    "print im1\n",
    "print \"emotion:\", translate(emo1)\n",
    "print\n",
    "print \"char2\"\n",
    "print \"Personality Matrix 2:\"\n",
    "print p2\n",
    "print \"Impact Matrix 2:\"\n",
    "print im2\n",
    "print \"emotion:\", translate(emo2)"
   ]
  },
  {
   "cell_type": "code",
   "execution_count": 7,
   "metadata": {
    "collapsed": false
   },
   "outputs": [
    {
     "name": "stdout",
     "output_type": "stream",
     "text": [
      "After interaction:\n",
      "char0 emotion: 2\n",
      "char1 emotion: Fear\n",
      "char2 emotion: Sad\n",
      "[[ 0.18042239  0.22375151  0.28467118  0.31129687]\n",
      " [ 0.43662239  0.24965151  0.04737118  0.26649687]\n",
      " [ 0.37572239  0.06765151  0.30497118  0.25179687]\n",
      " [ 0.36942239  0.34625151  0.13837118  0.14609687]]\n",
      "[[ 0.33590789  0.32307799  0.1032052   0.23789842]\n",
      " [ 0.21650789  0.23307799  0.1332052   0.41729842]\n",
      " [ 0.32870789  0.23067799  0.1986052   0.24209842]\n",
      " [ 0.23930789  0.18387799  0.2826052   0.29429842]]\n",
      "[[ 0.2299264   0.24494416  0.1933934   0.33223604]\n",
      " [ 0.2909264   0.26644416  0.2458934   0.19723604]\n",
      " [ 0.2684264   0.23394416  0.2033934   0.29523604]\n",
      " [ 0.3929264   0.12844416  0.1668934   0.31223604]]\n"
     ]
    }
   ],
   "source": [
    "\n",
    "emo_0, direction_0 = new_emotion_one_character( 0, [1,2], [emo0, emo1, emo2], [p0, p1, p2],\n",
    "                          [im0, im1, im2], [soc0, soc1, soc2], [v0, v1, v2])\n",
    "emo_1, direction_1 = new_emotion_one_character( 1, [0,2], [emo0, emo1, emo2], [p0, p1, p2],\n",
    "                          [im0, im1, im2], [soc0, soc1, soc2], [v0, v1, v2])\n",
    "emo_2, direction_2 = new_emotion_one_character( 2, [0,1], [emo0, emo1, emo2], [p0, p1, p2],\n",
    "                          [im0, im1, im2], [soc0, soc1, soc2], [v0, v1, v2])\n",
    "\n",
    "print \"After interaction:\"\n",
    "print \"char0 emotion:\", emo_0\n",
    "print \"char1 emotion:\", translate(emo_1)\n",
    "print \"char2 emotion:\", translate(emo_2)\n",
    "\n",
    "print direction_0\n",
    "print direction_1\n",
    "print direction_2\n",
    "\n"
   ]
  },
  {
   "cell_type": "code",
   "execution_count": null,
   "metadata": {
    "collapsed": true
   },
   "outputs": [],
   "source": []
  },
  {
   "cell_type": "code",
   "execution_count": null,
   "metadata": {
    "collapsed": true
   },
   "outputs": [],
   "source": []
  },
  {
   "cell_type": "code",
   "execution_count": null,
   "metadata": {
    "collapsed": true
   },
   "outputs": [],
   "source": []
  },
  {
   "cell_type": "code",
   "execution_count": null,
   "metadata": {
    "collapsed": true
   },
   "outputs": [],
   "source": []
  },
  {
   "cell_type": "code",
   "execution_count": null,
   "metadata": {
    "collapsed": true
   },
   "outputs": [],
   "source": []
  },
  {
   "cell_type": "code",
   "execution_count": null,
   "metadata": {
    "collapsed": true
   },
   "outputs": [],
   "source": []
  },
  {
   "cell_type": "code",
   "execution_count": null,
   "metadata": {
    "collapsed": true
   },
   "outputs": [],
   "source": []
  },
  {
   "cell_type": "code",
   "execution_count": null,
   "metadata": {
    "collapsed": true
   },
   "outputs": [],
   "source": []
  },
  {
   "cell_type": "code",
   "execution_count": null,
   "metadata": {
    "collapsed": true
   },
   "outputs": [],
   "source": []
  },
  {
   "cell_type": "code",
   "execution_count": null,
   "metadata": {
    "collapsed": true
   },
   "outputs": [],
   "source": []
  },
  {
   "cell_type": "code",
   "execution_count": null,
   "metadata": {
    "collapsed": true
   },
   "outputs": [],
   "source": []
  },
  {
   "cell_type": "code",
   "execution_count": null,
   "metadata": {
    "collapsed": true
   },
   "outputs": [],
   "source": []
  },
  {
   "cell_type": "code",
   "execution_count": null,
   "metadata": {
    "collapsed": true
   },
   "outputs": [],
   "source": []
  },
  {
   "cell_type": "code",
   "execution_count": null,
   "metadata": {
    "collapsed": true
   },
   "outputs": [],
   "source": []
  },
  {
   "cell_type": "code",
   "execution_count": null,
   "metadata": {
    "collapsed": true
   },
   "outputs": [],
   "source": []
  },
  {
   "cell_type": "code",
   "execution_count": null,
   "metadata": {
    "collapsed": true
   },
   "outputs": [],
   "source": []
  },
  {
   "cell_type": "code",
   "execution_count": null,
   "metadata": {
    "collapsed": true
   },
   "outputs": [],
   "source": []
  },
  {
   "cell_type": "code",
   "execution_count": null,
   "metadata": {
    "collapsed": true
   },
   "outputs": [],
   "source": []
  },
  {
   "cell_type": "code",
   "execution_count": null,
   "metadata": {
    "collapsed": true
   },
   "outputs": [],
   "source": []
  },
  {
   "cell_type": "code",
   "execution_count": null,
   "metadata": {
    "collapsed": true
   },
   "outputs": [],
   "source": []
  }
 ],
 "metadata": {
  "kernelspec": {
   "display_name": "Python [Root]",
   "language": "python",
   "name": "Python [Root]"
  },
  "language_info": {
   "codemirror_mode": {
    "name": "ipython",
    "version": 2
   },
   "file_extension": ".py",
   "mimetype": "text/x-python",
   "name": "python",
   "nbconvert_exporter": "python",
   "pygments_lexer": "ipython2",
   "version": "2.7.12"
  }
 },
 "nbformat": 4,
 "nbformat_minor": 0
}
