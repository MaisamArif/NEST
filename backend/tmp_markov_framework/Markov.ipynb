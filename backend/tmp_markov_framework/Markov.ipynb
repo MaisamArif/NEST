{
 "cells": [
  {
   "cell_type": "code",
   "execution_count": 2,
   "metadata": {
    "collapsed": false
   },
   "outputs": [
    {
     "name": "stdout",
     "output_type": "stream",
     "text": [
      "[[ 0.75  0.05  0.1   0.1 ]\n",
      " [ 0.1   0.4   0.3   0.2 ]\n",
      " [ 0.05  0.4   0.4   0.15]\n",
      " [ 0.1   0.35  0.1   0.45]]\n",
      "\n",
      "[[ 0.5   0.2   0.2   0.1 ]\n",
      " [ 0.05  0.6   0.15  0.2 ]\n",
      " [ 0.    0.3   0.6   0.1 ]\n",
      " [ 0.    0.6   0.1   0.3 ]]\n",
      "\n",
      "[[ 0.8  0.1  0.1  0. ]\n",
      " [ 0.1  0.7  0.1  0.1]\n",
      " [ 0.   0.1  0.4  0.5]\n",
      " [ 0.   0.5  0.1  0.4]]\n",
      "\n",
      "[[ 0.1  0.6  0.3  0. ]\n",
      " [ 0.7  0.2  0.1  0. ]\n",
      " [ 0.1  0.1  0.1  0.7]\n",
      " [ 0.2  0.2  0.2  0.4]]\n"
     ]
    }
   ],
   "source": [
    "import numpy as np\n",
    "\n",
    "P0 = np.matrix([[.75, .05, .1, .1],\n",
    "               [ 0.1 ,0.4 ,0.3, 0.2],\n",
    "               [0.05, 0.4, 0.4, 0.15],\n",
    "               [0.1, 0.35, 0.1, 0.45]])\n",
    "\n",
    "P1 = np.matrix([[0.5, 0.2, 0.2, 0.1],\n",
    "               [0.05, 0.6, 0.15, 0.2],\n",
    "               [0, 0.3, 0.6, 0.1],\n",
    "               [0, 0.6, 0.1, 0.3]])\n",
    "\n",
    "IM0 = np.matrix([[0.8, 0.1, 0.1, 0.0],\n",
    "                [0.1, 0.7, 0.1, 0.1],\n",
    "                [0.0, 0.1, 0.4, 0.5],\n",
    "                [0.0, 0.5, 0.1, 0.4]])\n",
    "\n",
    "IM1 = np.matrix([[0.1, 0.6, 0.3, 0.0],\n",
    "                [0.7, 0.2, 0.1, 0.0],\n",
    "                [0.1, 0.1, 0.1, 0.7],\n",
    "                [0.2, 0.2, 0.2, 0.4]])\n",
    "\n",
    "print P0\n",
    "print\n",
    "print P1\n",
    "print\n",
    "print IM0\n",
    "print\n",
    "print IM1"
   ]
  },
  {
   "cell_type": "code",
   "execution_count": 3,
   "metadata": {
    "collapsed": false
   },
   "outputs": [
    {
     "data": {
      "text/plain": [
       "matrix([[ 0.14,  0.46,  0.19,  0.21],\n",
       "        [ 0.58,  0.22,  0.13,  0.07],\n",
       "        [ 0.09,  0.44,  0.13,  0.34],\n",
       "        [ 0.18,  0.38,  0.16,  0.28]])"
      ]
     },
     "execution_count": 3,
     "metadata": {},
     "output_type": "execute_result"
    }
   ],
   "source": [
    "#reversed v_1 * M_1to M_1 * v_1\n",
    "\n",
    "vm =  IM1[0:,0] * IM0[0,0:] + IM1[0:,1] * IM0[1,0:] + IM1[0:,2] * IM0[2,0:] +IM1[0:,3] * IM0[3,0:]\n",
    "vm"
   ]
  },
  {
   "cell_type": "code",
   "execution_count": 4,
   "metadata": {
    "collapsed": false
   },
   "outputs": [
    {
     "data": {
      "text/plain": [
       "matrix([[ 0.506,  0.214,  0.136,  0.144],\n",
       "        [ 0.292,  0.328,  0.232,  0.148],\n",
       "        [ 0.066,  0.416,  0.292,  0.226],\n",
       "        [ 0.132,  0.362,  0.124,  0.382]])"
      ]
     },
     "execution_count": 4,
     "metadata": {},
     "output_type": "execute_result"
    }
   ],
   "source": [
    "s = .4\n",
    "c0_to_c1 = ((1-s) * P0)+ (s * vm)\n",
    "c0_to_c1"
   ]
  },
  {
   "cell_type": "code",
   "execution_count": 5,
   "metadata": {
    "collapsed": false
   },
   "outputs": [
    {
     "data": {
      "text/plain": [
       "matrix([[ 0.351,  0.131,  0.13 ,  0.388],\n",
       "        [ 0.073,  0.231,  0.452,  0.244],\n",
       "        [ 0.757,  0.074,  0.124,  0.045],\n",
       "        [ 0.028,  0.467,  0.425,  0.08 ]])"
      ]
     },
     "execution_count": 5,
     "metadata": {},
     "output_type": "execute_result"
    }
   ],
   "source": [
    "import random\n",
    "\n",
    "def normalize(arr):\n",
    "    s = sum(arr)\n",
    "\n",
    "    if s == 0:\n",
    "        s = 1\n",
    "        arr[0] = 1\n",
    "    \n",
    "    for i, val in enumerate(arr):\n",
    "        arr[i] = val/s\n",
    "\n",
    "\n",
    "def generate(width, height):\n",
    "    matrix = []\n",
    "\n",
    "    for i in range(height):\n",
    "        matrix.append([])\n",
    "\n",
    "        for j in range(width):\n",
    "            matrix[i].append(float(random.randint(0, 1000))/1000)\n",
    "\n",
    "        normalize(matrix[i])\n",
    "\n",
    "        matrix[i] = [round(x, 3) for x in matrix[i]]\n",
    "        \n",
    "    return np.matrix(matrix)\n",
    "\n",
    "generate(4,4)\n"
   ]
  },
  {
   "cell_type": "code",
   "execution_count": 6,
   "metadata": {
    "collapsed": false
   },
   "outputs": [
    {
     "data": {
      "text/plain": [
       "[matrix([[ 0.011,  0.694,  0.262,  0.033],\n",
       "         [ 0.406,  0.303,  0.198,  0.092],\n",
       "         [ 0.474,  0.089,  0.063,  0.373],\n",
       "         [ 0.147,  0.346,  0.197,  0.31 ]]),\n",
       " matrix([[ 0.142,  0.193,  0.255,  0.41 ],\n",
       "         [ 0.284,  0.335,  0.154,  0.227],\n",
       "         [ 0.323,  0.082,  0.435,  0.161],\n",
       "         [ 0.266,  0.142,  0.288,  0.304]]),\n",
       " matrix([[ 0.317,  0.358,  0.035,  0.289],\n",
       "         [ 0.028,  0.354,  0.172,  0.446],\n",
       "         [ 0.136,  0.186,  0.232,  0.446],\n",
       "         [ 0.419,  0.242,  0.311,  0.028]]),\n",
       " matrix([[ 0.02 ,  0.172,  0.308,  0.5  ],\n",
       "         [ 0.051,  0.395,  0.393,  0.161],\n",
       "         [ 0.586,  0.197,  0.044,  0.174],\n",
       "         [ 0.194,  0.324,  0.158,  0.324]]),\n",
       " matrix([[ 0.0929516,  0.5331208,  0.2762704,  0.0977496],\n",
       "         [ 0.3709561,  0.2712768,  0.2259474,  0.1312376],\n",
       "         [ 0.3916968,  0.1245227,  0.118806 ,  0.3645877],\n",
       "         [ 0.1799346,  0.3036838,  0.2163224,  0.3001066]]),\n",
       " matrix([[ 0.2868612,  0.3282936,  0.099234 ,  0.2851132],\n",
       "         [ 0.0796188,  0.3264236,  0.2079076,  0.3861116],\n",
       "         [ 0.2003144,  0.201922 ,  0.2097152,  0.3886224],\n",
       "         [ 0.3475224,  0.2480296,  0.2659752,  0.138588 ]])]"
      ]
     },
     "execution_count": 6,
     "metadata": {},
     "output_type": "execute_result"
    }
   ],
   "source": [
    "def initialize(soc0, soc1):\n",
    "    matricies = []\n",
    "    \n",
    "    for i in range(4):\n",
    "        matricies.append(generate(4,4))\n",
    "    #format is as follows [P0, IM0, P1, IM1]\n",
    "\n",
    "    P0, IM0, P1, IM1 = matricies\n",
    "\n",
    "    vm1 =  IM1[0:,0] * IM0[0,0:] + IM1[0:,1] * IM0[1,0:] + IM1[0:,2] * IM0[2,0:] +IM1[0:,3] * IM0[3,0:]\n",
    "    vm2 =  IM0[0:,0] * IM1[0,0:] + IM0[0:,1] * IM1[1,0:] + IM0[0:,2] * IM1[2,0:] +IM0[0:,3] * IM1[3,0:]\n",
    "    c0_to_c1 = ((1-soc0) * P0)+ (soc0 * vm1)\n",
    "    c1_to_c0 = ((1-soc1) * P1)+ (soc1 * vm2)\n",
    "    \n",
    "    matricies.append(c0_to_c1)\n",
    "    matricies.append(c1_to_c0)\n",
    "    \n",
    "    if random.randint(0,1) == 1:\n",
    "        position_and_direction = ['right', 'left', 'left', 'right']\n",
    "    else:\n",
    "        position_and_direction = ['left', 'right', 'right', 'left']\n",
    "    \n",
    "    return matricies#, position_and_direction\n",
    "    \n",
    "initialize(.3,.4)\n",
    "    \n",
    "    \n",
    "    "
   ]
  },
  {
   "cell_type": "code",
   "execution_count": 14,
   "metadata": {
    "collapsed": false
   },
   "outputs": [
    {
     "data": {
      "text/plain": [
       "(1, 0)"
      ]
     },
     "execution_count": 14,
     "metadata": {},
     "output_type": "execute_result"
    }
   ],
   "source": [
    "def traverse(matrix):\n",
    "    rand  = float(random.randint(0,1000))/1000\n",
    "    count = 0\n",
    "    for i, elem in enumerate(matrix):\n",
    "        if rand > count and rand < count + elem:\n",
    "            return i\n",
    "        count += elem\n",
    "    return len(matrix) - 1\n",
    "\n",
    "\n",
    "def continue_chain(emo1, emo2, matricies):\n",
    "    T1, T2 = matricies\n",
    "    \n",
    "    if random.randint(0,1) == 1:\n",
    "        position_and_direction = ['right', 'left', 'left', 'right']\n",
    "    else:\n",
    "        position_and_direction = ['left', 'right', 'right', 'left']\n",
    "\n",
    "    return (traverse(T1.A[emo1]), traverse(T2.A[emo2]))#, position_and_direction \n",
    "\n",
    "continue_chain(0,0,initialize(.3,.4)[4:])"
   ]
  },
  {
   "cell_type": "code",
   "execution_count": null,
   "metadata": {
    "collapsed": true
   },
   "outputs": [],
   "source": []
  },
  {
   "cell_type": "code",
   "execution_count": null,
   "metadata": {
    "collapsed": true
   },
   "outputs": [],
   "source": []
  },
  {
   "cell_type": "code",
   "execution_count": null,
   "metadata": {
    "collapsed": true
   },
   "outputs": [],
   "source": []
  }
 ],
 "metadata": {
  "kernelspec": {
   "display_name": "Python [Root]",
   "language": "python",
   "name": "Python [Root]"
  },
  "language_info": {
   "codemirror_mode": {
    "name": "ipython",
    "version": 2
   },
   "file_extension": ".py",
   "mimetype": "text/x-python",
   "name": "python",
   "nbconvert_exporter": "python",
   "pygments_lexer": "ipython2",
   "version": "2.7.12"
  }
 },
 "nbformat": 4,
 "nbformat_minor": 0
}
