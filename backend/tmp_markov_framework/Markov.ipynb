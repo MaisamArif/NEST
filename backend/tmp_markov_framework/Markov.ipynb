{
 "cells": [
  {
   "cell_type": "code",
   "execution_count": 29,
   "metadata": {
    "collapsed": false
   },
   "outputs": [
    {
     "name": "stdout",
     "output_type": "stream",
     "text": [
      "[[ 0.364  0.167  0.2    0.268]\n",
      " [ 0.375  0.066  0.365  0.194]\n",
      " [ 0.13   0.007  0.461  0.402]\n",
      " [ 0.236  0.178  0.057  0.529]]\n",
      "[0.35980551053484605, 0.3646677471636953, 0.2755267423014587, 0.0]\n"
     ]
    }
   ],
   "source": [
    "import random\n",
    "import numpy as np\n",
    "\n",
    "def normalize(arr):\n",
    "    s = sum(arr)\n",
    "\n",
    "    if s == 0:\n",
    "        s = 1\n",
    "        arr[0] = 1\n",
    "    \n",
    "    for i, val in enumerate(arr):\n",
    "        arr[i] = val/s\n",
    "    return arr\n",
    "\n",
    "\n",
    "def generate(width, height):\n",
    "    matrix = []\n",
    "\n",
    "    for i in range(height):\n",
    "        matrix.append([])\n",
    "\n",
    "        for j in range(width):\n",
    "            matrix[i].append(float(random.randint(0, 1000))/1000)\n",
    "        matrix[i] = normalize(matrix[i])\n",
    "\n",
    "        matrix[i] = [round(x, 3) for x in matrix[i]]\n",
    "        \n",
    "    return np.matrix(matrix)\n",
    "\n",
    "print generate(4,4)\n",
    "\n",
    "\n",
    "print normalize([.444,.45, .34, .0])"
   ]
  },
  {
   "cell_type": "code",
   "execution_count": 43,
   "metadata": {
    "collapsed": false
   },
   "outputs": [
    {
     "name": "stdout",
     "output_type": "stream",
     "text": [
      "matrix: [[ 0.159  0.228  0.2    0.413]\n",
      " [ 0.404  0.183  0.09   0.323]\n",
      " [ 0.428  0.441  0.127  0.005]\n",
      " [ 0.241  0.222  0.271  0.266]]\n",
      "accesing [[ 0.159  0.228  0.2    0.413]]\n",
      "changing to: [1.016, 0.074, 0.086, 0.039]\n",
      "normie: [0.8362139917695472, 0.06090534979423868, 0.07078189300411522, 0.03209876543209876]\n",
      "after: [[ 0.836  0.061  0.071  0.032]\n",
      " [ 0.404  0.183  0.09   0.323]\n",
      " [ 0.428  0.441  0.127  0.005]\n",
      " [ 0.241  0.222  0.271  0.266]]\n"
     ]
    },
    {
     "data": {
      "text/plain": [
       "matrix([[ 0.836,  0.061,  0.071,  0.032],\n",
       "        [ 0.404,  0.183,  0.09 ,  0.323],\n",
       "        [ 0.428,  0.441,  0.127,  0.005],\n",
       "        [ 0.241,  0.222,  0.271,  0.266]])"
      ]
     },
     "execution_count": 43,
     "metadata": {},
     "output_type": "execute_result"
    }
   ],
   "source": [
    "def affinity(personality_matrix, num):\n",
    "\n",
    "    print \"matrix:\", personality_matrix\n",
    "    matrix = []\n",
    "    for elem in range(len(personality_matrix)):\n",
    "        if elem == num:\n",
    "            matrix.append(float(random.randint(0, 1000) +75 0)/1000)\n",
    "        else:\n",
    "            matrix.append(float(random.randint(0, 1000))/1000)\n",
    "\n",
    "    print \"accesing\", personality_matrix[num]\n",
    "    print \"changing to:\", matrix\n",
    "    print \"normie:\", normalize(matrix)\n",
    "    matrix = normalize(matrix)\n",
    "    matrix = [round(x, 3) for x in matrix]\n",
    "    personality_matrix[num] = matrix\n",
    "\n",
    "  \n",
    "    print \"after:\", personality_matrix\n",
    "    return personality_matrix\n",
    "\n",
    "affinity(generate(4,4),0)"
   ]
  },
  {
   "cell_type": "code",
   "execution_count": 42,
   "metadata": {
    "collapsed": false
   },
   "outputs": [
    {
     "data": {
      "text/plain": [
       "([matrix([[ 0.208,  0.114,  0.275,  0.403],\n",
       "          [ 0.129,  0.574,  0.292,  0.005],\n",
       "          [ 0.137,  0.277,  0.322,  0.264],\n",
       "          [ 0.36 ,  0.104,  0.015,  0.52 ]]),\n",
       "  matrix([[ 0.153,  0.549,  0.171,  0.127],\n",
       "          [ 0.007,  0.303,  0.137,  0.552],\n",
       "          [ 0.039,  0.143,  0.546,  0.272],\n",
       "          [ 0.102,  0.46 ,  0.393,  0.045]]),\n",
       "  matrix([[ 0.415,  0.441,  0.056,  0.088],\n",
       "          [ 0.277,  0.048,  0.189,  0.486],\n",
       "          [ 0.104,  0.463,  0.1  ,  0.333],\n",
       "          [ 0.28 ,  0.103,  0.28 ,  0.337]]),\n",
       "  matrix([[ 0.279,  0.261,  0.024,  0.436],\n",
       "          [ 0.033,  0.141,  0.299,  0.526],\n",
       "          [ 0.378,  0.107,  0.348,  0.167],\n",
       "          [ 0.283,  0.464,  0.04 ,  0.213]])],\n",
       " [[0.0, 1.0], [1.0, 0.0]])"
      ]
     },
     "execution_count": 42,
     "metadata": {},
     "output_type": "execute_result"
    }
   ],
   "source": [
    "#input:num characters\n",
    "#output: num personality matricies, and closeness vectors\n",
    "\n",
    "def initialize(num):\n",
    "    out_matricies = []\n",
    "    \n",
    "    for i in range(num * 2):\n",
    "        out_matricies.append(generate(4,4))\n",
    "    \n",
    "    closeness_vectors = []\n",
    "    for x in range(num):\n",
    "        close_vector = []\n",
    "        for i in range(num):\n",
    "            if i == x:\n",
    "                close_vector.append(float(0))\n",
    "            else:\n",
    "                close_vector.append(float(random.randint(0,1000))/1000)\n",
    "        closeness_vectors.append(normalize(close_vector))\n",
    "    return out_matricies, closeness_vectors\n",
    "\n",
    "initialize(2)"
   ]
  },
  {
   "cell_type": "code",
   "execution_count": 3,
   "metadata": {
    "collapsed": true
   },
   "outputs": [],
   "source": [
    "def traverse_row(matrix):\n",
    "    rand  = float(random.randint(0,1000))/1000\n",
    "    count = 0\n",
    "    for i, elem in enumerate(matrix):\n",
    "        if rand > count and rand < count + elem:\n",
    "            return i\n",
    "        count += elem\n",
    "    return len(matrix) - 1\n",
    "\n",
    "def translate(num):\n",
    "    if num == 0:\n",
    "        return \"Happy\"\n",
    "    if num == 1:\n",
    "        return \"Sad\"\n",
    "    if num == 2:\n",
    "        return \"Angry\"\n",
    "    if num == 3:\n",
    "        return \"Fear\"     \n",
    "    \n",
    "def translate_to_num(string):\n",
    "    if num == \"Happy\":\n",
    "        return 0\n",
    "    if num == \"Sad\":\n",
    "        return 1\n",
    "    if num == \"Angry\":\n",
    "        return 2\n",
    "    if num == \"Fear\":\n",
    "        return 3     "
   ]
  },
  {
   "cell_type": "code",
   "execution_count": 4,
   "metadata": {
    "collapsed": false
   },
   "outputs": [],
   "source": [
    "#This takes in one character, all the other characters in the frame, and all the matricies for \n",
    "#every character\n",
    "\n",
    "def new_emotion_one_character(character_acting_id,    #id of acting character in frame\n",
    "                              character_in_frame_ids, #id of other characters in frame\n",
    "                              char_emotions,          #array of emotions of characters in frame\n",
    "                              personality_matricies,  #array of personality matricies of characters in frame\n",
    "                              impact_matricies,       #array of impact matricies of characters in frame\n",
    "                              socialbility_params,    #array of socialbility of characters in frame\n",
    "                              closeness_vectors):     #array of closeness vectors of characters in frame\n",
    "    \n",
    "    if len(character_in_frame_ids) == 0:\n",
    "        P0   = personality_matricies[character_acting_id]\n",
    "        emo0 = char_emotions[character_acting_id]\n",
    "        \n",
    "        if random.randint(0,1) == 1:\n",
    "            position_and_direction = ['right', 'left']\n",
    "        else:\n",
    "            position_and_direction = ['left', 'right']\n",
    "        \n",
    "        return (traverse_row(P0.A[emo0]),position_and_direction)\n",
    "    \n",
    "    else:\n",
    "        P0   = personality_matricies[character_acting_id]\n",
    "        emo0 = char_emotions[character_acting_id]\n",
    "        s0   = socialbility_params[character_acting_id]\n",
    "        \n",
    "        if random.randint(0,1) == 1:\n",
    "            position_and_direction = ['right', 'left']\n",
    "        else:\n",
    "            position_and_direction = ['left', 'right']\n",
    "        \n",
    "        total_influence = np.matrix([[0.0, 0.0, 0.0, 0.0],\n",
    "                                     [0.0, 0.0, 0.0, 0.0],\n",
    "                                     [0.0, 0.0, 0.0, 0.0],\n",
    "                                     [0.0, 0.0, 0.0, 0.0]])\n",
    "        \n",
    "        for elem in character_in_frame_ids:\n",
    "            M = impact_matricies[elem].A[char_emotions[elem]]\n",
    "            v = closeness_vectors[character_acting_id][elem]\n",
    "            M = np.repeat(M[np.newaxis,:], 4, 0)\n",
    "            total_influence += v*M\n",
    "    \n",
    "        transition_matrix = (1-s0) * P0 + s0 *(total_influence)\n",
    "    \n",
    "        #return(traverse_row(transition_matrix.A[emo0]), position_and_direction)\n",
    "        return(traverse_row(transition_matrix.A[emo0]), transition_matrix)\n",
    "    "
   ]
  },
  {
   "cell_type": "code",
   "execution_count": 5,
   "metadata": {
    "collapsed": false
   },
   "outputs": [
    {
     "name": "stdout",
     "output_type": "stream",
     "text": [
      "Before:\n",
      "char0\n",
      "Personality Matrix 0:\n",
      "[[ 0.259  0.133  0.331  0.277]\n",
      " [ 0.028  0.046  0.241  0.685]\n",
      " [ 0.519  0.022  0.409  0.05 ]\n",
      " [ 0.424  0.358  0.205  0.013]]\n",
      "Impact Matrix 0:\n",
      "[[ 0.123  0.218  0.364  0.294]\n",
      " [ 0.256  0.207  0.399  0.137]\n",
      " [ 0.357  0.496  0.008  0.14 ]\n",
      " [ 0.133  0.326  0.373  0.168]]\n",
      "emotion: Happy\n",
      "\n",
      "char1\n",
      "Personality Matrix 1:\n",
      "[[ 0.4    0.092  0.481  0.026]\n",
      " [ 0.213  0.351  0.239  0.197]\n",
      " [ 0.477  0.349  0.001  0.174]\n",
      " [ 0.245  0.224  0.186  0.345]]\n",
      "Impact Matrix 1:\n",
      "[[ 0.247  0.276  0.004  0.473]\n",
      " [ 0.37   0.252  0.334  0.044]\n",
      " [ 0.169  0.355  0.234  0.243]\n",
      " [ 0.384  0.051  0.39   0.174]]\n",
      "emotion: Happy\n",
      "\n",
      "char2\n",
      "Personality Matrix 2:\n",
      "[[ 0.416  0.376  0.013  0.195]\n",
      " [ 0.309  0.08   0.204  0.408]\n",
      " [ 0.481  0.276  0.2    0.043]\n",
      " [ 0.153  0.19   0.295  0.363]]\n",
      "Impact Matrix 2:\n",
      "[[ 0.318  0.327  0.1    0.255]\n",
      " [ 0.013  0.421  0.454  0.112]\n",
      " [ 0.243  0.144  0.505  0.108]\n",
      " [ 0.122  0.309  0.35   0.219]]\n",
      "emotion: Happy\n"
     ]
    }
   ],
   "source": [
    "matrixes = initialize(3)\n",
    "list1, list2 = matrixes\n",
    "p0, im0, p1, im1, p2, im2 = list1\n",
    "v0, v1, v2 = list2\n",
    "soc0 = .3\n",
    "soc1 = .4\n",
    "soc2 = .5\n",
    "emo0 = 0\n",
    "emo1 = 0\n",
    "emo2 = 0\n",
    "\n",
    "print \"Before:\"\n",
    "print \"char0\"\n",
    "print \"Personality Matrix 0:\"\n",
    "print p0\n",
    "print \"Impact Matrix 0:\"\n",
    "print im0\n",
    "print \"emotion:\", translate(emo0)\n",
    "print\n",
    "print \"char1\"\n",
    "print \"Personality Matrix 1:\"\n",
    "print p1\n",
    "print \"Impact Matrix 1:\"\n",
    "print im1\n",
    "print \"emotion:\", translate(emo1)\n",
    "print\n",
    "print \"char2\"\n",
    "print \"Personality Matrix 2:\"\n",
    "print p2\n",
    "print \"Impact Matrix 2:\"\n",
    "print im2\n",
    "print \"emotion:\", translate(emo2)"
   ]
  },
  {
   "cell_type": "code",
   "execution_count": 6,
   "metadata": {
    "collapsed": false
   },
   "outputs": [
    {
     "name": "stdout",
     "output_type": "stream",
     "text": [
      "After interaction:\n",
      "char0 emotion: 3\n",
      "char1 emotion: Angry\n",
      "char2 emotion: Happy\n",
      "[[ 0.26682072  0.18410362  0.24834211  0.30073355]\n",
      " [ 0.10512072  0.12320362  0.18534211  0.58633355]\n",
      " [ 0.44882072  0.10640362  0.30294211  0.14183355]\n",
      " [ 0.38232072  0.34160362  0.16014211  0.11593355]]\n",
      "[[ 0.31798155  0.15848815  0.39523421  0.12744369]\n",
      " [ 0.20578155  0.31388815  0.25003421  0.23004369]\n",
      " [ 0.36418155  0.31268815  0.10723421  0.21624369]\n",
      " [ 0.22498155  0.23768815  0.21823421  0.31884369]]\n",
      "[[ 0.31748162  0.31944301  0.04919853  0.31376379]\n",
      " [ 0.26398162  0.17144301  0.14469853  0.42026379]\n",
      " [ 0.34998162  0.26944301  0.14269853  0.23776379]\n",
      " [ 0.18598162  0.22644301  0.19019853  0.39776379]]\n"
     ]
    }
   ],
   "source": [
    "\n",
    "emo_0, direction_0 = new_emotion_one_character( 0, [1,2], [emo0, emo1, emo2], [p0, p1, p2],\n",
    "                          [im0, im1, im2], [soc0, soc1, soc2], [v0, v1, v2])\n",
    "emo_1, direction_1 = new_emotion_one_character( 1, [0,2], [emo0, emo1, emo2], [p0, p1, p2],\n",
    "                          [im0, im1, im2], [soc0, soc1, soc2], [v0, v1, v2])\n",
    "emo_2, direction_2 = new_emotion_one_character( 2, [0,1], [emo0, emo1, emo2], [p0, p1, p2],\n",
    "                          [im0, im1, im2], [soc0, soc1, soc2], [v0, v1, v2])\n",
    "\n",
    "print \"After interaction:\"\n",
    "print \"char0 emotion:\", emo_0\n",
    "print \"char1 emotion:\", translate(emo_1)\n",
    "print \"char2 emotion:\", translate(emo_2)\n",
    "\n",
    "print direction_0\n",
    "print direction_1\n",
    "print direction_2\n",
    "\n"
   ]
  },
  {
   "cell_type": "code",
   "execution_count": null,
   "metadata": {
    "collapsed": true
   },
   "outputs": [],
   "source": []
  },
  {
   "cell_type": "code",
   "execution_count": null,
   "metadata": {
    "collapsed": true
   },
   "outputs": [],
   "source": []
  },
  {
   "cell_type": "code",
   "execution_count": null,
   "metadata": {
    "collapsed": true
   },
   "outputs": [],
   "source": []
  },
  {
   "cell_type": "code",
   "execution_count": null,
   "metadata": {
    "collapsed": true
   },
   "outputs": [],
   "source": []
  },
  {
   "cell_type": "code",
   "execution_count": null,
   "metadata": {
    "collapsed": true
   },
   "outputs": [],
   "source": []
  },
  {
   "cell_type": "code",
   "execution_count": null,
   "metadata": {
    "collapsed": true
   },
   "outputs": [],
   "source": []
  },
  {
   "cell_type": "code",
   "execution_count": null,
   "metadata": {
    "collapsed": true
   },
   "outputs": [],
   "source": []
  },
  {
   "cell_type": "code",
   "execution_count": null,
   "metadata": {
    "collapsed": true
   },
   "outputs": [],
   "source": []
  },
  {
   "cell_type": "code",
   "execution_count": null,
   "metadata": {
    "collapsed": true
   },
   "outputs": [],
   "source": []
  },
  {
   "cell_type": "code",
   "execution_count": null,
   "metadata": {
    "collapsed": true
   },
   "outputs": [],
   "source": []
  },
  {
   "cell_type": "code",
   "execution_count": null,
   "metadata": {
    "collapsed": true
   },
   "outputs": [],
   "source": []
  },
  {
   "cell_type": "code",
   "execution_count": null,
   "metadata": {
    "collapsed": true
   },
   "outputs": [],
   "source": []
  },
  {
   "cell_type": "code",
   "execution_count": null,
   "metadata": {
    "collapsed": true
   },
   "outputs": [],
   "source": []
  },
  {
   "cell_type": "code",
   "execution_count": null,
   "metadata": {
    "collapsed": true
   },
   "outputs": [],
   "source": []
  },
  {
   "cell_type": "code",
   "execution_count": null,
   "metadata": {
    "collapsed": true
   },
   "outputs": [],
   "source": []
  },
  {
   "cell_type": "code",
   "execution_count": null,
   "metadata": {
    "collapsed": true
   },
   "outputs": [],
   "source": []
  },
  {
   "cell_type": "code",
   "execution_count": null,
   "metadata": {
    "collapsed": true
   },
   "outputs": [],
   "source": []
  },
  {
   "cell_type": "code",
   "execution_count": null,
   "metadata": {
    "collapsed": true
   },
   "outputs": [],
   "source": []
  },
  {
   "cell_type": "code",
   "execution_count": null,
   "metadata": {
    "collapsed": true
   },
   "outputs": [],
   "source": []
  },
  {
   "cell_type": "code",
   "execution_count": null,
   "metadata": {
    "collapsed": true
   },
   "outputs": [],
   "source": []
  }
 ],
 "metadata": {
  "kernelspec": {
   "display_name": "Python [Root]",
   "language": "python",
   "name": "Python [Root]"
  },
  "language_info": {
   "codemirror_mode": {
    "name": "ipython",
    "version": 2
   },
   "file_extension": ".py",
   "mimetype": "text/x-python",
   "name": "python",
   "nbconvert_exporter": "python",
   "pygments_lexer": "ipython2",
   "version": "2.7.12"
  }
 },
 "nbformat": 4,
 "nbformat_minor": 0
}
