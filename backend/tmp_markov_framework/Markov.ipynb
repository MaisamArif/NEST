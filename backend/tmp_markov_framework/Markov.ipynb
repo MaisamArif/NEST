{
 "cells": [
  {
   "cell_type": "code",
   "execution_count": 55,
   "metadata": {
    "collapsed": false
   },
   "outputs": [
    {
     "name": "stdout",
     "output_type": "stream",
     "text": [
      "[0.35980551053484605, 0.3646677471636953, 0.2755267423014587, 0.0]\n"
     ]
    }
   ],
   "source": [
    "import random\n",
    "import numpy as np\n",
    "\n",
    "def normalize(arr):\n",
    "    s = sum(arr)\n",
    "\n",
    "    if s == 0:\n",
    "        s = 1\n",
    "        arr[0] = 1\n",
    "    \n",
    "    for i, val in enumerate(arr):\n",
    "        arr[i] = val/s\n",
    "    return arr\n",
    "\n",
    "\n",
    "def generate(width, height):\n",
    "    matrix = []\n",
    "\n",
    "    for i in range(height):\n",
    "        matrix.append([])\n",
    "\n",
    "        for j in range(width):\n",
    "            matrix[i].append(float(random.randint(0, 1000))/1000)\n",
    "\n",
    "        matrix[i] = normalize(matrix[i])\n",
    "\n",
    "        matrix[i] = [round(x, 3) for x in matrix[i]]\n",
    "        \n",
    "    return np.matrix(matrix)\n",
    "\n",
    "generate(4,4)\n",
    "\n",
    "\n",
    "print normalize([.444,.45, .34, .0])"
   ]
  },
  {
   "cell_type": "code",
   "execution_count": 56,
   "metadata": {
    "collapsed": false
   },
   "outputs": [
    {
     "data": {
      "text/plain": [
       "([matrix([[ 0.202,  0.375,  0.166,  0.257],\n",
       "          [ 0.058,  0.164,  0.502,  0.276],\n",
       "          [ 0.147,  0.271,  0.405,  0.177],\n",
       "          [ 0.107,  0.302,  0.395,  0.197]]),\n",
       "  matrix([[ 0.088,  0.32 ,  0.391,  0.201],\n",
       "          [ 0.148,  0.291,  0.14 ,  0.422],\n",
       "          [ 0.189,  0.168,  0.471,  0.172],\n",
       "          [ 0.139,  0.338,  0.032,  0.492]]),\n",
       "  matrix([[ 0.233,  0.219,  0.197,  0.351],\n",
       "          [ 0.28 ,  0.367,  0.237,  0.116],\n",
       "          [ 0.413,  0.112,  0.04 ,  0.436],\n",
       "          [ 0.157,  0.213,  0.252,  0.379]]),\n",
       "  matrix([[ 0.388,  0.153,  0.365,  0.094],\n",
       "          [ 0.354,  0.173,  0.286,  0.187],\n",
       "          [ 0.142,  0.412,  0.387,  0.059],\n",
       "          [ 0.303,  0.33 ,  0.107,  0.26 ]])],\n",
       " [[0.0, 1.0], [1.0, 0.0]])"
      ]
     },
     "execution_count": 56,
     "metadata": {},
     "output_type": "execute_result"
    }
   ],
   "source": [
    "#input:num characters\n",
    "#output: num personality matricies, and closeness vectors\n",
    "\n",
    "def initialize(num):\n",
    "    out_matricies = []\n",
    "    \n",
    "    for i in range(num * 2):\n",
    "        out_matricies.append(generate(4,4))\n",
    "    \n",
    "    closeness_vectors = []\n",
    "    for x in range(num):\n",
    "        close_vector = []\n",
    "        for i in range(num):\n",
    "            if i == x:\n",
    "                close_vector.append(float(0))\n",
    "            else:\n",
    "                close_vector.append(float(random.randint(0,1000))/1000)\n",
    "        closeness_vectors.append(normalize(close_vector))\n",
    "    return out_matricies, closeness_vectors\n",
    "\n",
    "initialize(2)"
   ]
  },
  {
   "cell_type": "code",
   "execution_count": 57,
   "metadata": {
    "collapsed": true
   },
   "outputs": [],
   "source": [
    "def traverse_row(matrix):\n",
    "    rand  = float(random.randint(0,1000))/1000\n",
    "    count = 0\n",
    "    for i, elem in enumerate(matrix):\n",
    "        if rand > count and rand < count + elem:\n",
    "            return i\n",
    "        count += elem\n",
    "    return len(matrix) - 1\n",
    "\n",
    "def translate(num):\n",
    "    if num == 0:\n",
    "        return \"Happy\"\n",
    "    if num == 1:\n",
    "        return \"Sad\"\n",
    "    if num == 2:\n",
    "        return \"Angry\"\n",
    "    if num == 3:\n",
    "        return \"Fear\"     \n",
    "    \n",
    "def translate_to_num(string):\n",
    "    if num == \"Happy\":\n",
    "        return 0\n",
    "    if num == \"Sad\":\n",
    "        return 1\n",
    "    if num == \"Angry\":\n",
    "        return 2\n",
    "    if num == \"Fear\":\n",
    "        return 3     "
   ]
  },
  {
   "cell_type": "code",
   "execution_count": 40,
   "metadata": {
    "collapsed": false
   },
   "outputs": [],
   "source": [
    "#This takes in one character, all the other characters in the frame, and all the matricies for \n",
    "#every character\n",
    "\n",
    "def new_emotion_one_character(character_acting_id,    #id of acting character in frame\n",
    "                              character_in_frame_ids, #id of other characters in frame\n",
    "                              char_emotions,          #array of emotions of characters in frame\n",
    "                              personality_matricies,  #array of personality matricies of characters in frame\n",
    "                              impact_matricies,       #array of impact matricies of characters in frame\n",
    "                              socialbility_params,    #array of socialbility of characters in frame\n",
    "                              closeness_vectors):     #array of closeness vectors of characters in frame\n",
    "    \n",
    "    if len(character_in_frame_ids) == 0:\n",
    "        P0   = personality_matricies[character_acting_id]\n",
    "        emo0 = char_emotions[character_acting_id]\n",
    "        \n",
    "        if random.randint(0,1) == 1:\n",
    "            position_and_direction = ['right', 'left']\n",
    "        else:\n",
    "            position_and_direction = ['left', 'right']\n",
    "        \n",
    "        return (traverse_row(P0.A[emo0]),position_and_direction)\n",
    "    \n",
    "    else:\n",
    "        P0   = personality_matricies[character_acting_id]\n",
    "        emo0 = char_emotions[character_acting_id]\n",
    "        s0   = socialbility_params[character_acting_id]\n",
    "        \n",
    "        if random.randint(0,1) == 1:\n",
    "            position_and_direction = ['right', 'left']\n",
    "        else:\n",
    "            position_and_direction = ['left', 'right']\n",
    "        \n",
    "        total_influence = np.matrix([[0.0, 0.0, 0.0, 0.0],\n",
    "                                     [0.0, 0.0, 0.0, 0.0],\n",
    "                                     [0.0, 0.0, 0.0, 0.0],\n",
    "                                     [0.0, 0.0, 0.0, 0.0]])\n",
    "        \n",
    "        for elem in character_in_frame_ids:\n",
    "            M = impact_matricies[elem].A[char_emotions[elem]]\n",
    "            v = closeness_vectors[character_acting_id][elem]\n",
    "            M = np.repeat(M[np.newaxis,:], 4, 0)\n",
    "            total_influence += v*M\n",
    "    \n",
    "        transition_matrix = (1-s0) * P0 + s0 *(total_influence)\n",
    "    \n",
    "        #return(traverse_row(transition_matrix.A[emo0]), position_and_direction)\n",
    "        return(traverse_row(transition_matrix.A[emo0]), transition_matrix)\n",
    "    "
   ]
  },
  {
   "cell_type": "code",
   "execution_count": 39,
   "metadata": {
    "collapsed": false
   },
   "outputs": [
    {
     "name": "stdout",
     "output_type": "stream",
     "text": [
      "Before:\n",
      "char0\n",
      "Personality Matrix 0:\n",
      "[[ 0.275  0.26   0.253  0.212]\n",
      " [ 0.393  0.553  0.001  0.053]\n",
      " [ 0.106  0.425  0.432  0.037]\n",
      " [ 0.098  0.092  0.388  0.423]]\n",
      "Impact Matrix 0:\n",
      "[[ 0.04   0.36   0.3    0.3  ]\n",
      " [ 0.67   0.088  0.235  0.006]\n",
      " [ 0.243  0.077  0.206  0.475]\n",
      " [ 0.107  0.229  0.285  0.379]]\n",
      "emotion: Happy\n",
      "\n",
      "char1\n",
      "Personality Matrix 1:\n",
      "[[ 0.136  0.088  0.471  0.306]\n",
      " [ 0.367  0.185  0.259  0.19 ]\n",
      " [ 0.215  0.216  0.335  0.233]\n",
      " [ 0.45   0.471  0.023  0.057]]\n",
      "Impact Matrix 1:\n",
      "[[ 0.343  0.32   0.113  0.224]\n",
      " [ 0.263  0.326  0.287  0.124]\n",
      " [ 0.388  0.143  0.398  0.071]\n",
      " [ 0.03   0.434  0.161  0.375]]\n",
      "emotion: Happy\n",
      "\n",
      "char2\n",
      "Personality Matrix 2:\n",
      "[[ 0.039  0.312  0.284  0.366]\n",
      " [ 0.073  0.333  0.465  0.129]\n",
      " [ 0.37   0.237  0.24   0.153]\n",
      " [ 0.136  0.036  0.7    0.128]]\n",
      "Impact Matrix 2:\n",
      "[[ 0.038  0.124  0.461  0.377]\n",
      " [ 0.066  0.323  0.442  0.17 ]\n",
      " [ 0.11   0.299  0.37   0.221]\n",
      " [ 0.417  0.189  0.384  0.009]]\n",
      "emotion: Happy\n"
     ]
    }
   ],
   "source": [
    "matrixes = initialize(3)\n",
    "list1, list2 = matrixes\n",
    "p0, im0, p1, im1, p2, im2 = list1\n",
    "v0, v1, v2 = list2\n",
    "soc0 = .3\n",
    "soc1 = .4\n",
    "soc2 = .5\n",
    "emo0 = 0\n",
    "emo1 = 0\n",
    "emo2 = 0\n",
    "\n",
    "print \"Before:\"\n",
    "print \"char0\"\n",
    "print \"Personality Matrix 0:\"\n",
    "print p0\n",
    "print \"Impact Matrix 0:\"\n",
    "print im0\n",
    "print \"emotion:\", translate(emo0)\n",
    "print\n",
    "print \"char1\"\n",
    "print \"Personality Matrix 1:\"\n",
    "print p1\n",
    "print \"Impact Matrix 1:\"\n",
    "print im1\n",
    "print \"emotion:\", translate(emo1)\n",
    "print\n",
    "print \"char2\"\n",
    "print \"Personality Matrix 2:\"\n",
    "print p2\n",
    "print \"Impact Matrix 2:\"\n",
    "print im2\n",
    "print \"emotion:\", translate(emo2)"
   ]
  },
  {
   "cell_type": "code",
   "execution_count": 54,
   "metadata": {
    "collapsed": false
   },
   "outputs": [
    {
     "name": "stdout",
     "output_type": "stream",
     "text": [
      "After interaction:\n",
      "char0 emotion: Angry\n",
      "char1 emotion: Angry\n",
      "char2 emotion: Fear\n",
      "[[ 0.22834178  0.23490685  0.28751233  0.24923904]\n",
      " [ 0.31094178  0.44000685  0.11111233  0.13793904]\n",
      " [ 0.11004178  0.35040685  0.41281233  0.12673904]\n",
      " [ 0.10444178  0.11730685  0.38201233  0.39693904]]\n",
      "[[ 0.09749146  0.18399251  0.41133731  0.30777871]\n",
      " [ 0.23609146  0.24219251  0.28413731  0.23817871]\n",
      " [ 0.14489146  0.26079251  0.32973731  0.26397871]\n",
      " [ 0.28589146  0.41379251  0.14253731  0.15837871]]\n",
      "[[ 0.09383544  0.328827    0.25846624  0.31937131]\n",
      " [ 0.11083544  0.339327    0.34896624  0.20087131]\n",
      " [ 0.25933544  0.291327    0.23646624  0.21287131]\n",
      " [ 0.14233544  0.190827    0.46646624  0.20037131]]\n"
     ]
    }
   ],
   "source": [
    "\n",
    "emo_0, direction_0 = new_emotion_one_character( 0, [1,2], [emo0, emo1, emo2], [p0, p1, p2],\n",
    "                          [im0, im1, im2], [soc0, soc1, soc2], [v0, v1, v2])\n",
    "emo_1, direction_1 = new_emotion_one_character( 1, [0,2], [emo0, emo1, emo2], [p0, p1, p2],\n",
    "                          [im0, im1, im2], [soc0, soc1, soc2], [v0, v1, v2])\n",
    "emo_2, direction_2 = new_emotion_one_character( 2, [0,1], [emo0, emo1, emo2], [p0, p1, p2],\n",
    "                          [im0, im1, im2], [soc0, soc1, soc2], [v0, v1, v2])\n",
    "\n",
    "print \"After interaction:\"\n",
    "print \"char0 emotion:\", translate(emo_0)\n",
    "print \"char1 emotion:\", translate(emo_1)\n",
    "print \"char2 emotion:\", translate(emo_2)\n",
    "\n",
    "print direction_0\n",
    "print direction_1\n",
    "print direction_2\n",
    "\n"
   ]
  },
  {
   "cell_type": "code",
   "execution_count": null,
   "metadata": {
    "collapsed": true
   },
   "outputs": [],
   "source": []
  },
  {
   "cell_type": "code",
   "execution_count": null,
   "metadata": {
    "collapsed": true
   },
   "outputs": [],
   "source": []
  }
 ],
 "metadata": {
  "kernelspec": {
   "display_name": "Python [Root]",
   "language": "python",
   "name": "Python [Root]"
  },
  "language_info": {
   "codemirror_mode": {
    "name": "ipython",
    "version": 2
   },
   "file_extension": ".py",
   "mimetype": "text/x-python",
   "name": "python",
   "nbconvert_exporter": "python",
   "pygments_lexer": "ipython2",
   "version": "2.7.12"
  }
 },
 "nbformat": 4,
 "nbformat_minor": 0
}
