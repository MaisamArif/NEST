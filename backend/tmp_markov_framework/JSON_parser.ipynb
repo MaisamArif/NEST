{
 "cells": [
  {
   "cell_type": "code",
   "execution_count": 2,
   "metadata": {
    "collapsed": false
   },
   "outputs": [
    {
     "name": "stdout",
     "output_type": "stream",
     "text": [
      "[0.35980551053484605, 0.3646677471636953, 0.2755267423014587, 0.0]\n"
     ]
    }
   ],
   "source": [
    "import random\n",
    "import numpy as np\n",
    "\n",
    "def normalize(arr):\n",
    "    s = sum(arr)\n",
    "\n",
    "    if s == 0:\n",
    "        s = 1\n",
    "        arr[0] = 1\n",
    "    \n",
    "    for i, val in enumerate(arr):\n",
    "        arr[i] = val/s\n",
    "    return arr\n",
    "\n",
    "\n",
    "def generate(width, height):\n",
    "    matrix = []\n",
    "\n",
    "    for i in range(height):\n",
    "        matrix.append([])\n",
    "\n",
    "        for j in range(width):\n",
    "            matrix[i].append(float(random.randint(0, 1000))/1000)\n",
    "\n",
    "        matrix[i] = normalize(matrix[i])\n",
    "\n",
    "        matrix[i] = [round(x, 3) for x in matrix[i]]\n",
    "        \n",
    "    return np.matrix(matrix)\n",
    "\n",
    "generate(4,4)\n",
    "\n",
    "\n",
    "print normalize([.444,.45, .34, .0])"
   ]
  },
  {
   "cell_type": "code",
   "execution_count": 3,
   "metadata": {
    "collapsed": false
   },
   "outputs": [
    {
     "data": {
      "text/plain": [
       "([matrix([[ 0.239,  0.165,  0.299,  0.297],\n",
       "          [ 0.127,  0.105,  0.328,  0.44 ],\n",
       "          [ 0.168,  0.201,  0.301,  0.33 ],\n",
       "          [ 0.003,  0.271,  0.394,  0.332]]),\n",
       "  matrix([[ 0.256,  0.381,  0.101,  0.261],\n",
       "          [ 0.353,  0.054,  0.355,  0.239],\n",
       "          [ 0.128,  0.111,  0.415,  0.346],\n",
       "          [ 0.216,  0.364,  0.405,  0.015]]),\n",
       "  matrix([[ 0.008,  0.185,  0.327,  0.48 ],\n",
       "          [ 0.312,  0.187,  0.166,  0.335],\n",
       "          [ 0.131,  0.424,  0.285,  0.16 ],\n",
       "          [ 0.196,  0.153,  0.484,  0.166]]),\n",
       "  matrix([[ 0.277,  0.326,  0.16 ,  0.237],\n",
       "          [ 0.191,  0.36 ,  0.216,  0.233],\n",
       "          [ 0.028,  0.508,  0.265,  0.199],\n",
       "          [ 0.293,  0.061,  0.326,  0.32 ]])],\n",
       " [[0.0, 1.0], [1.0, 0.0]])"
      ]
     },
     "execution_count": 3,
     "metadata": {},
     "output_type": "execute_result"
    }
   ],
   "source": [
    "#input:num characters\n",
    "#output: num personality matricies, and closeness vectors\n",
    "\n",
    "def initialize(num):\n",
    "    out_matricies = []\n",
    "    \n",
    "    for i in range(num * 2):\n",
    "        out_matricies.append(generate(4,4))\n",
    "    \n",
    "    closeness_vectors = []\n",
    "    for x in range(num):\n",
    "        close_vector = []\n",
    "        for i in range(num):\n",
    "            if i == x:\n",
    "                close_vector.append(float(0))\n",
    "            else:\n",
    "                close_vector.append(float(random.randint(0,1000))/1000)\n",
    "        closeness_vectors.append(normalize(close_vector))\n",
    "    return out_matricies, closeness_vectors\n",
    "\n",
    "initialize(2)"
   ]
  },
  {
   "cell_type": "code",
   "execution_count": 10,
   "metadata": {
    "collapsed": true
   },
   "outputs": [],
   "source": [
    "def translate(num):\n",
    "    if num == 0:\n",
    "        return \"Happy\"\n",
    "    if num == 1:\n",
    "        return \"Sad\"\n",
    "    if num == 2:\n",
    "        return \"Angry\"\n",
    "    if num == 3:\n",
    "        return \"Fear\"     \n",
    "    \n",
    "def translate_to_num(stringy):\n",
    "    if stringy == \"Happy\":\n",
    "        return 0\n",
    "    if stringy == \"Sad\":\n",
    "        return 1\n",
    "    if stringy == \"Angry\":\n",
    "        return 2\n",
    "    if stringy == \"Fear\":\n",
    "        return 3"
   ]
  },
  {
   "cell_type": "code",
   "execution_count": null,
   "metadata": {
    "collapsed": true
   },
   "outputs": [],
   "source": []
  },
  {
   "cell_type": "code",
   "execution_count": null,
   "metadata": {
    "collapsed": true
   },
   "outputs": [],
   "source": []
  },
  {
   "cell_type": "code",
   "execution_count": null,
   "metadata": {
    "collapsed": true
   },
   "outputs": [],
   "source": []
  },
  {
   "cell_type": "code",
   "execution_count": null,
   "metadata": {
    "collapsed": true
   },
   "outputs": [],
   "source": []
  },
  {
   "cell_type": "code",
   "execution_count": null,
   "metadata": {
    "collapsed": true
   },
   "outputs": [],
   "source": []
  },
  {
   "cell_type": "code",
   "execution_count": null,
   "metadata": {
    "collapsed": true
   },
   "outputs": [],
   "source": []
  },
  {
   "cell_type": "markdown",
   "metadata": {},
   "source": [
    "Few things to keep aware of. \n",
    "People acessing things at the same time, take the earlier user's request, then discard the other guys request and then continue the chain.\n",
    "\n"
   ]
  },
  {
   "cell_type": "code",
   "execution_count": 5,
   "metadata": {
    "collapsed": true
   },
   "outputs": [],
   "source": [
    "#Intialization - creates db and then sends an empty response\n",
    "\n",
    "s = \"\"\"{\n",
    "  \"Details\": {\n",
    "    \"Username\" : \"Anonymous\",\n",
    "    \"Story\"    : \"Rabbit Story\"\n",
    "  },\n",
    "  \"Characters\": [\n",
    "    {\n",
    "      \"Name\": \"Rabbit\",\n",
    "      \"Position\": \"Right\",\n",
    "      \"Social\"  : 0.3,\n",
    "      \"Emotion\": \"Happy\"\n",
    "    },\n",
    "\n",
    "    {\n",
    "      \"Name\": \"Turtle\",\n",
    "      \"Position\": \"Left\",\n",
    "      \"Social\"  : 0.2,\n",
    "      \"Emotion\": \"Sad\"\n",
    "    }\n",
    "  ]\n",
    "}\n",
    "\"\"\""
   ]
  },
  {
   "cell_type": "code",
   "execution_count": 6,
   "metadata": {
    "collapsed": false
   },
   "outputs": [
    {
     "name": "stdout",
     "output_type": "stream",
     "text": [
      "0\n",
      "Rabbit\n",
      "Right\n",
      "0.3\n",
      "0\n",
      "[[ 0.096  0.168  0.389  0.347]\n",
      " [ 0.316  0.002  0.359  0.323]\n",
      " [ 0.518  0.306  0.038  0.138]\n",
      " [ 0.007  0.57   0.059  0.364]]\n",
      "[[ 0.145  0.244  0.307  0.304]\n",
      " [ 0.009  0.295  0.482  0.215]\n",
      " [ 0.136  0.5    0.219  0.144]\n",
      " [ 0.67   0.099  0.167  0.064]]\n",
      "[0.0, 1.0]\n",
      "\n",
      "1\n",
      "Turtle\n",
      "Left\n",
      "0.2\n",
      "1\n",
      "[[ 0.15   0.427  0.368  0.055]\n",
      " [ 0.234  0.234  0.336  0.196]\n",
      " [ 0.434  0.06   0.196  0.31 ]\n",
      " [ 0.167  0.284  0.371  0.178]]\n",
      "[[ 0.197  0.006  0.037  0.76 ]\n",
      " [ 0.114  0.463  0.42   0.003]\n",
      " [ 0.258  0.269  0.367  0.106]\n",
      " [ 0.113  0.499  0.38   0.008]]\n",
      "[1.0, 0.0]\n",
      "\n"
     ]
    }
   ],
   "source": [
    "import json\n",
    "string = json.loads(s)\n",
    "\n",
    "username = string['Details']['Username']\n",
    "story    = string['Details']['Story']\n",
    "num_char = len(string['Characters'])\n",
    "\n",
    "matrices, closeness_vectors = initialize(num_char)\n",
    "\n",
    "#Initialize DB\n",
    "character_id = 0\n",
    "for elem in string['Characters']:\n",
    "    #DB[Character objs] puts the following\n",
    "    \n",
    "    char_id      = character_id\n",
    "    name         = elem['Name']\n",
    "    position     = elem['Position']\n",
    "    socialbility = elem['Social']\n",
    "    emotion      = translate_to_num(elem['Emotion'])\n",
    "    personality  = matrices[character_id]\n",
    "    impact       = matrices[character_id + num_char]\n",
    "    c_vector     = closeness_vectors[character_id]\n",
    "        \n",
    "    print char_id\n",
    "    print name\n",
    "    print position\n",
    "    print socialbility\n",
    "    print emotion\n",
    "    print personality\n",
    "    print impact\n",
    "    print c_vector\n",
    "    print\n",
    "    \n",
    "    character_id += 1\n",
    "        \n",
    "return generate_response(username,story,0,0)\n"
   ]
  },
  {
   "cell_type": "code",
   "execution_count": null,
   "metadata": {
    "collapsed": true
   },
   "outputs": [],
   "source": []
  },
  {
   "cell_type": "code",
   "execution_count": 2,
   "metadata": {
    "collapsed": false
   },
   "outputs": [],
   "source": [
    "#Update Text Request\n",
    "#update text in db\n",
    "#send response back\n",
    "\n",
    "s = {\n",
    "  \"Details\": {\n",
    "    \"Story\": \"Rabbit Story\",\n",
    "    \"Username\": \"Anonymous\",\n",
    "    \"Frame_start\": 1,\n",
    "    \"Frame_end\": 1\n",
    "  },\n",
    "\n",
    "  \"Frames\": [ \n",
    "    {\n",
    "      \"Characters\":[\n",
    "        {\n",
    "          \"Name\": \"Rabbit\",\n",
    "          \"Text\": \"Hello Turtle1\"\n",
    "        },\n",
    "\n",
    "        {\n",
    "          \"Name\": \"Turtle\",\n",
    "          \"Text\": \"Hello Rabbit1\"\n",
    "        }\n",
    "      ]\n",
    "    },\n",
    "\n",
    "    {\n",
    "      \"Characters\":[\n",
    "        {\n",
    "          \"Name\": \"Rabbit\",\n",
    "          \"Text\": \"Hello Turtle2\"\n",
    "        },\n",
    "        {\n",
    "          \"Name\": \"Turtle\",\n",
    "          \"Text\": \"Hello Rabbit2\"\n",
    "        }\n",
    "      ]\n",
    "    }\n",
    "  ]\n",
    "}\n"
   ]
  },
  {
   "cell_type": "markdown",
   "metadata": {
    "collapsed": true
   },
   "source": [
    "#create a function that access the db w/ the name of the character and gets its char_id\n",
    "\n",
    "#process\n",
    "#for every frame, update the text in the db nothing markov\n",
    "#if frames out of bound bail"
   ]
  },
  {
   "cell_type": "code",
   "execution_count": null,
   "metadata": {
    "collapsed": true
   },
   "outputs": [],
   "source": [
    "import json\n",
    "string = json.loads(s)\n",
    "\n",
    "username   = string['Details']['Username']\n",
    "story      = string['Details']['Story']\n",
    "start      = string['Details']['Frame_start']\n",
    "end        = string['Details']['Frame_end']\n",
    "\n",
    "#get number of the last frame from db\n",
    "if last_known_frame < int(end):\n",
    "    #return malformed JSON\n",
    "else:\n",
    "    #return JSON wanted\n",
    "    for elem in string['Frames']:\n",
    "        for sub_elem in elem['Characters']:\n",
    "            char_name = sub_elem['Name']\n",
    "            text      = sub_elem['Text']\n",
    "            #puts in db[story][start][char_name][TEXT ENTRY] = text \n",
    "            \n",
    "        start += 1\n",
    "        if start > end:\n",
    "            break\n",
    "        \n",
    "return generate_response(username,story,start,end)"
   ]
  },
  {
   "cell_type": "code",
   "execution_count": null,
   "metadata": {
    "collapsed": true
   },
   "outputs": [],
   "source": []
  },
  {
   "cell_type": "code",
   "execution_count": null,
   "metadata": {
    "collapsed": true
   },
   "outputs": [],
   "source": [
    "#continue past Story\n",
    "#Check for continuing or querying\n",
    "\n",
    "#continuing\n",
    "#Samples the markov chain for each character in the frame and then updates the db\n",
    "#then send the response back\n",
    "\n",
    "#querying \n",
    "#query db and send info w/ text back\n",
    "s = {\n",
    "  \"Details\": {\n",
    "    \"Story\": \"Rabbit Story\",\n",
    "    \"Username\": \"Anonymous\",\n",
    "    \"Frame_start\": 1,\n",
    "    \"Frame_end\": 3\n",
    "  }\n",
    "}\n"
   ]
  },
  {
   "cell_type": "code",
   "execution_count": 1,
   "metadata": {
    "collapsed": false
   },
   "outputs": [
    {
     "ename": "NameError",
     "evalue": "name 's' is not defined",
     "output_type": "error",
     "traceback": [
      "\u001b[1;31m---------------------------------------------------------------------------\u001b[0m",
      "\u001b[1;31mNameError\u001b[0m                                 Traceback (most recent call last)",
      "\u001b[1;32m<ipython-input-1-df28afc0a3e3>\u001b[0m in \u001b[0;36m<module>\u001b[1;34m()\u001b[0m\n\u001b[0;32m      1\u001b[0m \u001b[1;32mimport\u001b[0m \u001b[0mjson\u001b[0m\u001b[1;33m\u001b[0m\u001b[0m\n\u001b[1;32m----> 2\u001b[1;33m \u001b[0mstring\u001b[0m \u001b[1;33m=\u001b[0m \u001b[0mjson\u001b[0m\u001b[1;33m.\u001b[0m\u001b[0mloads\u001b[0m\u001b[1;33m(\u001b[0m\u001b[0ms\u001b[0m\u001b[1;33m)\u001b[0m\u001b[1;33m\u001b[0m\u001b[0m\n\u001b[0m\u001b[0;32m      3\u001b[0m \u001b[1;33m\u001b[0m\u001b[0m\n\u001b[0;32m      4\u001b[0m \u001b[0musername\u001b[0m   \u001b[1;33m=\u001b[0m \u001b[0mstring\u001b[0m\u001b[1;33m[\u001b[0m\u001b[1;34m'Details'\u001b[0m\u001b[1;33m]\u001b[0m\u001b[1;33m[\u001b[0m\u001b[1;34m'Username'\u001b[0m\u001b[1;33m]\u001b[0m\u001b[1;33m\u001b[0m\u001b[0m\n\u001b[0;32m      5\u001b[0m \u001b[0mstory\u001b[0m      \u001b[1;33m=\u001b[0m \u001b[0mstring\u001b[0m\u001b[1;33m[\u001b[0m\u001b[1;34m'Details'\u001b[0m\u001b[1;33m]\u001b[0m\u001b[1;33m[\u001b[0m\u001b[1;34m'Story'\u001b[0m\u001b[1;33m]\u001b[0m\u001b[1;33m\u001b[0m\u001b[0m\n",
      "\u001b[1;31mNameError\u001b[0m: name 's' is not defined"
     ]
    }
   ],
   "source": [
    "import json\n",
    "string = json.loads(s)\n",
    "\n",
    "username   = string['Details']['Username']\n",
    "story      = string['Details']['Story']\n",
    "start      = string['Details']['Frame_start']\n",
    "end        = string['Details']['Frame_end']\n",
    "\n",
    "#run a for\n",
    "    #check if frame is in db\n",
    "        #continue\n",
    "    #else:\n",
    "        #pull num of characters in story something like db.story.characterobjs\n",
    "        \n",
    "        #for 2 characters chosen at random:\n",
    "            #sample markov chain for one and update in db\n",
    "#return generate_response(username, story, start, end)"
   ]
  },
  {
   "cell_type": "code",
   "execution_count": 7,
   "metadata": {
    "collapsed": false
   },
   "outputs": [
    {
     "name": "stdout",
     "output_type": "stream",
     "text": [
      "[[ 0.  0.  0.  0.]\n",
      " [ 0.  0.  0.  0.]\n",
      " [ 0.  0.  0.  0.]\n",
      " [ 0.  0.  0.  0.]]\n"
     ]
    }
   ],
   "source": [
    "import numpy as np\n",
    "import json\n",
    "\n",
    "total_influence = np.matrix([[0.0, 0.0, 0.0, 0.0],\n",
    "                                     [0.0, 0.0, 0.0, 0.0],\n",
    "                                     [0.0, 0.0, 0.0, 0.0],\n",
    "                                     [0.0, 0.0, 0.0, 0.0]])\n",
    "s =  json.dumps(total_influence.tolist())\n",
    "print total_influence\n"
   ]
  },
  {
   "cell_type": "code",
   "execution_count": 6,
   "metadata": {
    "collapsed": false
   },
   "outputs": [
    {
     "name": "stdout",
     "output_type": "stream",
     "text": [
      "[[ 0.  0.  0.  0.]\n",
      " [ 0.  0.  0.  0.]\n",
      " [ 0.  0.  0.  0.]\n",
      " [ 0.  0.  0.  0.]]\n"
     ]
    }
   ],
   "source": [
    "print np.matrix(json.loads(s))"
   ]
  },
  {
   "cell_type": "code",
   "execution_count": null,
   "metadata": {
    "collapsed": true
   },
   "outputs": [],
   "source": []
  }
 ],
 "metadata": {
  "kernelspec": {
   "display_name": "Python [Root]",
   "language": "python",
   "name": "Python [Root]"
  },
  "language_info": {
   "codemirror_mode": {
    "name": "ipython",
    "version": 2
   },
   "file_extension": ".py",
   "mimetype": "text/x-python",
   "name": "python",
   "nbconvert_exporter": "python",
   "pygments_lexer": "ipython2",
   "version": "2.7.12"
  }
 },
 "nbformat": 4,
 "nbformat_minor": 0
}
