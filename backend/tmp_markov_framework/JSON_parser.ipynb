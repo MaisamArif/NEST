{
 "cells": [
  {
   "cell_type": "code",
   "execution_count": 5,
   "metadata": {
    "collapsed": true
   },
   "outputs": [],
   "source": [
    "s = \"\"\"{\n",
    "  \"Details\": {\n",
    "    \"Username\" : \"Anonymous\",\n",
    "    \"Story\"    : \"Rabbit Story\",\n",
    "    \"Number_Characters\" : 2\n",
    "  },\n",
    "  \"Characters\": [\n",
    "    {\n",
    "      \"Name\": \"Rabbit\",\n",
    "      \"Position\": \"Right\",\n",
    "      \"Social\"  : 0.3,\n",
    "      \"Emotion\": \"Happy\"\n",
    "    },\n",
    "\n",
    "    {\n",
    "      \"Name\": \"Turtle\",\n",
    "      \"Position\": \"Left\",\n",
    "      \"Social\"  : 0.2,\n",
    "      \"Emotion\": \"Sad\"\n",
    "    }\n",
    "  ]\n",
    "}\n",
    "\"\"\""
   ]
  },
  {
   "cell_type": "code",
   "execution_count": 18,
   "metadata": {
    "collapsed": false
   },
   "outputs": [
    {
     "data": {
      "text/plain": [
       "u'Happy'"
      ]
     },
     "execution_count": 18,
     "metadata": {},
     "output_type": "execute_result"
    }
   ],
   "source": [
    "import json\n",
    "string = json.loads(s)\n",
    "string['Characters'][0][\"Emotion\"] "
   ]
  },
  {
   "cell_type": "code",
   "execution_count": null,
   "metadata": {
    "collapsed": true
   },
   "outputs": [],
   "source": []
  },
  {
   "cell_type": "code",
   "execution_count": null,
   "metadata": {
    "collapsed": true
   },
   "outputs": [],
   "source": []
  }
 ],
 "metadata": {
  "kernelspec": {
   "display_name": "Python [Root]",
   "language": "python",
   "name": "Python [Root]"
  },
  "language_info": {
   "codemirror_mode": {
    "name": "ipython",
    "version": 2
   },
   "file_extension": ".py",
   "mimetype": "text/x-python",
   "name": "python",
   "nbconvert_exporter": "python",
   "pygments_lexer": "ipython2",
   "version": "2.7.12"
  }
 },
 "nbformat": 4,
 "nbformat_minor": 0
}
