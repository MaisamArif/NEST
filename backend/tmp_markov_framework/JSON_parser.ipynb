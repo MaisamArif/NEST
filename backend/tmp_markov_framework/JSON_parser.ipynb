{
 "cells": [
  {
   "cell_type": "markdown",
   "metadata": {},
   "source": [
    "Few things to keep aware of. \n",
    "People acessing things at the same time, take the earlier user's request, then discard the other guys request and then continue the chain.\n",
    "\n"
   ]
  },
  {
   "cell_type": "code",
   "execution_count": 6,
   "metadata": {
    "collapsed": true
   },
   "outputs": [],
   "source": [
    "def translate(num):\n",
    "    if num == 0:\n",
    "        return \"Happy\"\n",
    "    if num == 1:\n",
    "        return \"Sad\"\n",
    "    if num == 2:\n",
    "        return \"Angry\"\n",
    "    if num == 3:\n",
    "        return \"Fear\"     \n",
    "    \n",
    "def translate_to_num(string):\n",
    "    if num == \"Happy\":\n",
    "        return 0\n",
    "    if num == \"Sad\":\n",
    "        return 1\n",
    "    if num == \"Angry\":\n",
    "        return 2\n",
    "    if num == \"Fear\":\n",
    "        return 3"
   ]
  },
  {
   "cell_type": "code",
   "execution_count": 7,
   "metadata": {
    "collapsed": true
   },
   "outputs": [],
   "source": [
    "#Intialization - creates db and then sends an empty response\n",
    "\n",
    "s = \"\"\"{\n",
    "  \"Details\": {\n",
    "    \"Username\" : \"Anonymous\",\n",
    "    \"Story\"    : \"Rabbit Story\",\n",
    "    \"Number_Characters\" : 2\n",
    "  },\n",
    "  \"Characters\": [\n",
    "    {\n",
    "      \"Name\": \"Rabbit\",\n",
    "      \"Position\": \"Right\",\n",
    "      \"Social\"  : 0.3,\n",
    "      \"Emotion\": \"Happy\"\n",
    "    },\n",
    "\n",
    "    {\n",
    "      \"Name\": \"Turtle\",\n",
    "      \"Position\": \"Left\",\n",
    "      \"Social\"  : 0.2,\n",
    "      \"Emotion\": \"Sad\"\n",
    "    }\n",
    "  ]\n",
    "}\n",
    "\"\"\""
   ]
  },
  {
   "cell_type": "code",
   "execution_count": 8,
   "metadata": {
    "collapsed": false
   },
   "outputs": [
    {
     "data": {
      "text/plain": [
       "u'Happy'"
      ]
     },
     "execution_count": 8,
     "metadata": {},
     "output_type": "execute_result"
    }
   ],
   "source": [
    "import json\n",
    "string = json.loads(s)\n",
    "\n",
    "username = string['Details']['Username']\n",
    "story    = string['Details']['Story']\n",
    "num_char = string['Details']['Number_Characters']\n",
    "\n",
    "#Initialize DB\n",
    "\n",
    "for elem in string['Characters']:\n",
    "    #DB[Character objs] puts the following\n",
    "    \n",
    "    name         = elem['Name']\n",
    "    position     = elem['Position']\n",
    "    socialbility = elem['Social']\n",
    "    emotion      = translate_to_num(elem['Emotion'])\n",
    "    \n",
    "    \n",
    "\n",
    "string['Characters'][0][\"Emotion\"] "
   ]
  },
  {
   "cell_type": "code",
   "execution_count": null,
   "metadata": {
    "collapsed": true
   },
   "outputs": [],
   "source": []
  },
  {
   "cell_type": "code",
   "execution_count": null,
   "metadata": {
    "collapsed": true
   },
   "outputs": [],
   "source": []
  },
  {
   "cell_type": "code",
   "execution_count": null,
   "metadata": {
    "collapsed": true
   },
   "outputs": [],
   "source": []
  },
  {
   "cell_type": "code",
   "execution_count": 1,
   "metadata": {
    "collapsed": false
   },
   "outputs": [
    {
     "data": {
      "text/plain": [
       "{'Details': {'Frame_end': 2,\n",
       "  'Frame_start': 1,\n",
       "  'Story': 'Rabbit Story',\n",
       "  'Username': 'Anonymous'},\n",
       " 'Frames': [{'Characters': [{'Name': 'Rabbit', 'Text': ''},\n",
       "    {'Name': 'Turtle', 'Text': ''}]},\n",
       "  {'Characters': [{'Name': 'Rabbit', 'Text': ''},\n",
       "    {'Name': 'Turtle', 'Text': ''}]}]}"
      ]
     },
     "execution_count": 1,
     "metadata": {},
     "output_type": "execute_result"
    }
   ],
   "source": [
    "#Update Text Request\n",
    "#update text in db\n",
    "#send response back\n",
    "\n",
    "{\n",
    "  \"Details\": {\n",
    "    \"Story\": \"Rabbit Story\",\n",
    "    \"Username\": \"Anonymous\",\n",
    "    \"Frame_start\": 1,\n",
    "    \"Frame_end\": 2\n",
    "  },\n",
    "\n",
    "  \"Frames\": [ \n",
    "    {\n",
    "      \"Characters\":[\n",
    "        {\n",
    "          \"Name\": \"Rabbit\",\n",
    "          \"Text\": \"\"\n",
    "        },\n",
    "\n",
    "        {\n",
    "          \"Name\": \"Turtle\",\n",
    "          \"Text\": \"\"\n",
    "        }\n",
    "      ]\n",
    "    },\n",
    "\n",
    "    {\n",
    "      \"Characters\":[\n",
    "        {\n",
    "          \"Name\": \"Rabbit\",\n",
    "          \"Text\": \"\"\n",
    "        },\n",
    "        {\n",
    "          \"Name\": \"Turtle\",\n",
    "          \"Text\": \"\"\n",
    "        }\n",
    "      ]\n",
    "    }\n",
    "  ]\n",
    "}\n"
   ]
  },
  {
   "cell_type": "code",
   "execution_count": null,
   "metadata": {
    "collapsed": true
   },
   "outputs": [],
   "source": []
  },
  {
   "cell_type": "code",
   "execution_count": null,
   "metadata": {
    "collapsed": true
   },
   "outputs": [],
   "source": []
  },
  {
   "cell_type": "code",
   "execution_count": null,
   "metadata": {
    "collapsed": true
   },
   "outputs": [],
   "source": [
    "#continue past Story\n",
    "#Check for continuing or querying\n",
    "\n",
    "#continuing\n",
    "#Samples the markov chain for each character in the frame and then updates the db\n",
    "#then send the response back\n",
    "\n",
    "#querying \n",
    "#query db and send info w/ text back\n",
    "{\n",
    "  \"Details\": {\n",
    "    \"Story\": \"Rabbit Story\",\n",
    "    \"Username\": \"Anonymous\",\n",
    "    \"Frame_start\": 1,\n",
    "    \"Frame_end\": 3\n",
    "  }\n",
    "}\n"
   ]
  },
  {
   "cell_type": "code",
   "execution_count": null,
   "metadata": {
    "collapsed": true
   },
   "outputs": [],
   "source": []
  },
  {
   "cell_type": "code",
   "execution_count": null,
   "metadata": {
    "collapsed": true
   },
   "outputs": [],
   "source": []
  },
  {
   "cell_type": "code",
   "execution_count": null,
   "metadata": {
    "collapsed": true
   },
   "outputs": [],
   "source": []
  },
  {
   "cell_type": "code",
   "execution_count": 2,
   "metadata": {
    "collapsed": false
   },
   "outputs": [
    {
     "data": {
      "text/plain": [
       "{'Details': {'Frame_end': 2,\n",
       "  'Frame_start': 1,\n",
       "  'Story': 'Rabbit Story',\n",
       "  'Username': 'Anonymous'},\n",
       " 'Frames': [{'Background': {'Image_name': 'ground1'},\n",
       "   'Characters': [{'Direction': 'Left',\n",
       "     'Emotion': 'Happy',\n",
       "     'Name': 'Rabbit',\n",
       "     'Position': 'Right',\n",
       "     'Text': '',\n",
       "     'URL': 'aws link/rabbit_happy'},\n",
       "    {'Direction': 'Right',\n",
       "     'Emotion': 'Sad',\n",
       "     'Name': 'Turtle',\n",
       "     'Position': 'Left',\n",
       "     'Text': '',\n",
       "     'URL': 'aws link/turtle_sad'}]},\n",
       "  {'Background': {'Image_name': 'ground2'},\n",
       "   'Characters': [{'Direction': 'Left',\n",
       "     'Emotion': 'Sad',\n",
       "     'Name': 'Rabbit',\n",
       "     'Position': 'Right',\n",
       "     'Text': '',\n",
       "     'URL': 'aws link/rabbit_sad'},\n",
       "    {'Direction': 'Right',\n",
       "     'Emotion': 'Sad',\n",
       "     'Name': 'Turtle',\n",
       "     'Position': 'Left',\n",
       "     'Text': '',\n",
       "     'URL': 'aws link/turtle_sad'}]}]}"
      ]
     },
     "execution_count": 2,
     "metadata": {},
     "output_type": "execute_result"
    }
   ],
   "source": [
    "{\n",
    "  \"Details\": {\n",
    "    \"Story\": \"Rabbit Story\",\n",
    "    \"Username\": \"Anonymous\",\n",
    "    \"Frame_start\": 1,\n",
    "    \"Frame_end\": 2\n",
    "  },\n",
    "  \"Frames\": \n",
    "  [\n",
    "    {\n",
    "      \"Characters\":\n",
    "      [\n",
    "        {\n",
    "          \"Name\"        : \"Rabbit\",\n",
    "          \"Direction\"   : \"Left\",\n",
    "          \"Text\"        : \"\",\n",
    "          \"Emotion\"     : \"Happy\",\n",
    "          \"URL\"         : \"http://ec2-34-208-169-220.us-west-2.compute.amazonaws.com/Rabbit/fakesmile.png\",\n",
    "          \"Mouthpoint\"  : \"http://ec2-34-208-169-220.us-west-2.compute.amazonaws.com/Rabbit/fakesmile_mouthpoint.txt\"\n",
    "        },\n",
    "        {\n",
    "          \"Name\"        : \"Turtle\",\n",
    "          \"Direction\"   : \"Right\",\n",
    "          \"Text\"        : \"\",\n",
    "          \"Emotion\"     : \"Sad\",\n",
    "          \"URL\"         : \"http://ec2-34-208-169-220.us-west-2.compute.amazonaws.com/Turtle/sad.png\",\n",
    "          \"Mouthpoint\"  : \"http://ec2-34-208-169-220.us-west-2.compute.amazonaws.com/Turtle/sad_mouthpoint.txt\"\n",
    "        }\n",
    "      ],\n",
    "\n",
    "      \"Background\": \n",
    "      {\n",
    "        \"Image_name\": \"ground1\"\n",
    "      }\n",
    "    },\n",
    "\n",
    "    {\n",
    "      \"Characters\": \n",
    "      [\n",
    "        {\n",
    "          \"Name\"        : \"Rabbit\",\n",
    "          \"Direction\"   : \"Left\",\n",
    "          \"Text\"        : \"\",\n",
    "          \"Emotion\"     : \"Sad\",\n",
    "          \"URL\"         : \"http://ec2-34-208-169-220.us-west-2.compute.amazonaws.com/Rabbit/sad.png\",\n",
    "          \"Mouthpoint\"  : \"http://ec2-34-208-169-220.us-west-2.compute.amazonaws.com/Rabbit/sad_mouthpoint.txt\"\n",
    "        },\n",
    "        {\n",
    "          \"Name\"        : \"Turtle\",\n",
    "          \"Direction\"   : \"Right\",\n",
    "          \"Text\"        : \"\",\n",
    "          \"Emotion\"     : \"Sad\",\n",
    "          \"URL\"         : \"http://ec2-34-208-169-220.us-west-2.compute.amazonaws.com/Turtle/sad.png\",\n",
    "          \"Mouthpoint\"  : \"http://ec2-34-208-169-220.us-west-2.compute.amazonaws.com/Turtle/sad_mouthpoint.txt\"\n",
    "        }\n",
    "      ],\n",
    "\n",
    "      \"Background\": \n",
    "      {\n",
    "        \"Image_name\": \"ground2\"\n",
    "      }\n",
    "    }\n",
    "  ]\n",
    "\n",
    "}"
   ]
  },
  {
   "cell_type": "code",
   "execution_count": null,
   "metadata": {
    "collapsed": true
   },
   "outputs": [],
   "source": []
  },
  {
   "cell_type": "code",
   "execution_count": null,
   "metadata": {
    "collapsed": true
   },
   "outputs": [],
   "source": []
  },
  {
   "cell_type": "code",
   "execution_count": null,
   "metadata": {
    "collapsed": true
   },
   "outputs": [],
   "source": []
  },
  {
   "cell_type": "code",
   "execution_count": null,
   "metadata": {
    "collapsed": true
   },
   "outputs": [],
   "source": []
  },
  {
   "cell_type": "code",
   "execution_count": null,
   "metadata": {
    "collapsed": true
   },
   "outputs": [],
   "source": []
  },
  {
   "cell_type": "code",
   "execution_count": null,
   "metadata": {
    "collapsed": true
   },
   "outputs": [],
   "source": []
  }
 ],
 "metadata": {
  "kernelspec": {
   "display_name": "Python [Root]",
   "language": "python",
   "name": "Python [Root]"
  },
  "language_info": {
   "codemirror_mode": {
    "name": "ipython",
    "version": 2
   },
   "file_extension": ".py",
   "mimetype": "text/x-python",
   "name": "python",
   "nbconvert_exporter": "python",
   "pygments_lexer": "ipython2",
   "version": "2.7.12"
  }
 },
 "nbformat": 4,
 "nbformat_minor": 0
}
