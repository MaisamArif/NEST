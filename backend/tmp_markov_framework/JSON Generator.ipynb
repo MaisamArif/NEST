{
 "cells": [
  {
   "cell_type": "code",
   "execution_count": 1,
   "metadata": {
    "collapsed": false
   },
   "outputs": [
    {
     "name": "stdout",
     "output_type": "stream",
     "text": [
      "{\"Frames\": [{\"Background\": {\"Image_name\": \"ground1\"}, \"Characters\": [{\"Emotion\": \"Happy\", \"Direction\": \"Left\", \"Mouthpoint\": \"http://ec2-34-208-169-220.us-west-2.compute.amazonaws.com/Rabbit/fakesmile_mouthpoint.txt\", \"Name\": \"Rabbit\", \"URL\": \"http://ec2-34-208-169-220.us-west-2.compute.amazonaws.com/Rabbit/fakesmile.png\", \"Text\": \"\"}, {\"Emotion\": \"Sad\", \"Direction\": \"Right\", \"Mouthpoint\": \"http://ec2-34-208-169-220.us-west-2.compute.amazonaws.com/Turtle/sad_mouthpoint.txt\", \"Name\": \"Turtle\", \"URL\": \"http://ec2-34-208-169-220.us-west-2.compute.amazonaws.com/Turtle/sad.png\", \"Text\": \"\"}]}, {\"Background\": {\"Image_name\": \"ground2\"}, \"Characters\": [{\"Emotion\": \"Sad\", \"Direction\": \"Left\", \"Mouthpoint\": \"http://ec2-34-208-169-220.us-west-2.compute.amazonaws.com/Rabbit/sad_mouthpoint.txt\", \"Name\": \"Rabbit\", \"URL\": \"http://ec2-34-208-169-220.us-west-2.compute.amazonaws.com/Rabbit/sad.png\", \"Text\": \"\"}, {\"Emotion\": \"Sad\", \"Direction\": \"Right\", \"Mouthpoint\": \"http://ec2-34-208-169-220.us-west-2.compute.amazonaws.com/Turtle/sad_mouthpoint.txt\", \"Name\": \"Turtle\", \"URL\": \"http://ec2-34-208-169-220.us-west-2.compute.amazonaws.com/Turtle/sad.png\", \"Text\": \"\"}]}], \"Details\": {\"Username\": \"Anonymous\", \"Frame_start\": 1, \"Story\": \"Rabbit Story\", \"Frame_end\": 2}}\n"
     ]
    },
    {
     "data": {
      "text/plain": [
       "{'Details': {'Frame_end': 2,\n",
       "  'Frame_start': 1,\n",
       "  'Story': 'Rabbit Story',\n",
       "  'Username': 'Anonymous'},\n",
       " 'Frames': [{'Background': {'Image_name': 'ground1'},\n",
       "   'Characters': [{'Direction': 'Left',\n",
       "     'Emotion': 'Happy',\n",
       "     'Mouthpoint': 'http://ec2-34-208-169-220.us-west-2.compute.amazonaws.com/Rabbit/fakesmile_mouthpoint.txt',\n",
       "     'Name': 'Rabbit',\n",
       "     'Text': '',\n",
       "     'URL': 'http://ec2-34-208-169-220.us-west-2.compute.amazonaws.com/Rabbit/fakesmile.png'},\n",
       "    {'Direction': 'Right',\n",
       "     'Emotion': 'Sad',\n",
       "     'Mouthpoint': 'http://ec2-34-208-169-220.us-west-2.compute.amazonaws.com/Turtle/sad_mouthpoint.txt',\n",
       "     'Name': 'Turtle',\n",
       "     'Text': '',\n",
       "     'URL': 'http://ec2-34-208-169-220.us-west-2.compute.amazonaws.com/Turtle/sad.png'}]},\n",
       "  {'Background': {'Image_name': 'ground2'},\n",
       "   'Characters': [{'Direction': 'Left',\n",
       "     'Emotion': 'Sad',\n",
       "     'Mouthpoint': 'http://ec2-34-208-169-220.us-west-2.compute.amazonaws.com/Rabbit/sad_mouthpoint.txt',\n",
       "     'Name': 'Rabbit',\n",
       "     'Text': '',\n",
       "     'URL': 'http://ec2-34-208-169-220.us-west-2.compute.amazonaws.com/Rabbit/sad.png'},\n",
       "    {'Direction': 'Right',\n",
       "     'Emotion': 'Sad',\n",
       "     'Mouthpoint': 'http://ec2-34-208-169-220.us-west-2.compute.amazonaws.com/Turtle/sad_mouthpoint.txt',\n",
       "     'Name': 'Turtle',\n",
       "     'Text': '',\n",
       "     'URL': 'http://ec2-34-208-169-220.us-west-2.compute.amazonaws.com/Turtle/sad.png'}]}]}"
      ]
     },
     "execution_count": 1,
     "metadata": {},
     "output_type": "execute_result"
    }
   ],
   "source": [
    "import json\n",
    "s = {\n",
    "  \"Details\": {\n",
    "    \"Story\": \"Rabbit Story\",\n",
    "    \"Username\": \"Anonymous\",\n",
    "    \"Frame_start\": 1,\n",
    "    \"Frame_end\": 2\n",
    "  },\n",
    "  \"Frames\": \n",
    "  [\n",
    "    {\n",
    "      \"Characters\":\n",
    "      [\n",
    "        {\n",
    "          \"Name\"        : \"Rabbit\",\n",
    "          \"Direction\"   : \"Left\",\n",
    "          \"Text\"        : \"\",\n",
    "          \"Emotion\"     : \"Happy\",\n",
    "          \"URL\"         : \"http://ec2-34-208-169-220.us-west-2.compute.amazonaws.com/Rabbit/fakesmile.png\",\n",
    "          \"Mouthpoint\"  : \"http://ec2-34-208-169-220.us-west-2.compute.amazonaws.com/Rabbit/fakesmile_mouthpoint.txt\"\n",
    "        },\n",
    "        {\n",
    "          \"Name\"        : \"Turtle\",\n",
    "          \"Direction\"   : \"Right\",\n",
    "          \"Text\"        : \"\",\n",
    "          \"Emotion\"     : \"Sad\",\n",
    "          \"URL\"         : \"http://ec2-34-208-169-220.us-west-2.compute.amazonaws.com/Turtle/sad.png\",\n",
    "          \"Mouthpoint\"  : \"http://ec2-34-208-169-220.us-west-2.compute.amazonaws.com/Turtle/sad_mouthpoint.txt\"\n",
    "        }\n",
    "      ],\n",
    "\n",
    "      \"Background\": \n",
    "      {\n",
    "        \"Image_name\": \"ground1\"\n",
    "      }\n",
    "    },\n",
    "\n",
    "    {\n",
    "      \"Characters\": \n",
    "      [\n",
    "        {\n",
    "          \"Name\"        : \"Rabbit\",\n",
    "          \"Direction\"   : \"Left\",\n",
    "          \"Text\"        : \"\",\n",
    "          \"Emotion\"     : \"Sad\",\n",
    "          \"URL\"         : \"http://ec2-34-208-169-220.us-west-2.compute.amazonaws.com/Rabbit/sad.png\",\n",
    "          \"Mouthpoint\"  : \"http://ec2-34-208-169-220.us-west-2.compute.amazonaws.com/Rabbit/sad_mouthpoint.txt\"\n",
    "        },\n",
    "        {\n",
    "          \"Name\"        : \"Turtle\",\n",
    "          \"Direction\"   : \"Right\",\n",
    "          \"Text\"        : \"\",\n",
    "          \"Emotion\"     : \"Sad\",\n",
    "          \"URL\"         : \"http://ec2-34-208-169-220.us-west-2.compute.amazonaws.com/Turtle/sad.png\",\n",
    "          \"Mouthpoint\"  : \"http://ec2-34-208-169-220.us-west-2.compute.amazonaws.com/Turtle/sad_mouthpoint.txt\"\n",
    "        }\n",
    "      ],\n",
    "\n",
    "      \"Background\": \n",
    "      {\n",
    "        \"Image_name\": \"ground2\"\n",
    "      }\n",
    "    }\n",
    "  ]\n",
    "\n",
    "}\n",
    "\n",
    "print json.dumps(s)\n",
    "s"
   ]
  },
  {
   "cell_type": "code",
   "execution_count": 9,
   "metadata": {
    "collapsed": false
   },
   "outputs": [
    {
     "name": "stdout",
     "output_type": "stream",
     "text": [
      "{\"Frames\": [{\"Characters\": [{\"Emotion\": \"Happy\", \"Direction\": \"Left\", \"Mouthpoint\": \"http://34.208.169.220/Shark/happy_mouthpoint.txt\", \"Name\": \"Shark\", \"URL\": \"http://34.208.169.220/Shark/happy.png\", \"Text\": \"\"}, {\"Emotion\": \"Happy\", \"Direction\": \"Left\", \"Mouthpoint\": \"http://34.208.169.220/Shark/happy_mouthpoint.txt\", \"Name\": \"Shark\", \"URL\": \"http://34.208.169.220/Shark/happy.png\", \"Text\": \"\"}], \"Background\": {\"Image_name\": \"http://34.208.169.220/mint_background.jpg\"}}, {\"Characters\": [{\"Emotion\": \"Happy\", \"Direction\": \"Left\", \"Mouthpoint\": \"http://34.208.169.220/Shark/happy_mouthpoint.txt\", \"Name\": \"Shark\", \"URL\": \"http://34.208.169.220/Shark/happy.png\", \"Text\": \"\"}, {\"Emotion\": \"Happy\", \"Direction\": \"Left\", \"Mouthpoint\": \"http://34.208.169.220/Shark/happy_mouthpoint.txt\", \"Name\": \"Shark\", \"URL\": \"http://34.208.169.220/Shark/happy.png\", \"Text\": \"\"}], \"Background\": {\"Image_name\": \"http://34.208.169.220/mint_background.jpg\"}}], \"Details\": {\"Username\": \"a\", \"Frame_start\": 1, \"Story\": \"b\", \"Frame_end\": 2}}\n"
     ]
    }
   ],
   "source": [
    "import json\n",
    "\n",
    "#JSON Generator\n",
    "\n",
    "def generate_response(username, story, frame_start, frame_end):\n",
    "    url = 'http://34.208.169.220/'\n",
    "    json_response = {'Details' : \n",
    "                       {\"Story\": story,\n",
    "                        \"Username\": username,\n",
    "                        \"Frame_start\": frame_start,\n",
    "                        \"Frame_end\": frame_end\n",
    "                       },\n",
    "                     'Frames' : []\n",
    "                    }\n",
    "    \n",
    "    count = 0\n",
    "    for elem in range(frame_start, frame_end + 1):\n",
    "        \n",
    "        json_response['Frames'].append({})        \n",
    "        json_response['Frames'][count]['Background'] = {'Image_name' :  url + 'mint_background.jpg'}\n",
    "        \n",
    "        json_response['Frames'][count]['Characters'] = []\n",
    "        #add as many characters that are in the frame\n",
    "        \n",
    "        for char in range(2):\n",
    "            json_response['Frames'][count]['Characters'].append({}) \n",
    "            json_response['Frames'][count]['Characters'][char]['Direction']  = 'Left'\n",
    "            json_response['Frames'][count]['Characters'][char]['Emotion']    = \"Happy\"\n",
    "            json_response['Frames'][count]['Characters'][char]['Mouthpoint'] = url + \"Shark/\" + \"happy\" + '_mouthpoint.txt'\n",
    "            json_response['Frames'][count]['Characters'][char]['Name']       = 'Shark'\n",
    "            json_response['Frames'][count]['Characters'][char]['Text']       = \"\"\n",
    "            json_response['Frames'][count]['Characters'][char]['URL']        = url + \"Shark/\"+\"happy\"+ '.png'\n",
    "            \n",
    "        count += 1\n",
    "        \n",
    "    return json.dumps(json_response)\n",
    "    \n",
    "    #grab all this shit from db\n",
    "print generate_response('a','b', 1,2)\n",
    "    \n"
   ]
  },
  {
   "cell_type": "code",
   "execution_count": null,
   "metadata": {
    "collapsed": true
   },
   "outputs": [],
   "source": []
  },
  {
   "cell_type": "code",
   "execution_count": null,
   "metadata": {
    "collapsed": true
   },
   "outputs": [],
   "source": []
  }
 ],
 "metadata": {
  "kernelspec": {
   "display_name": "Python [Root]",
   "language": "python",
   "name": "Python [Root]"
  },
  "language_info": {
   "codemirror_mode": {
    "name": "ipython",
    "version": 2
   },
   "file_extension": ".py",
   "mimetype": "text/x-python",
   "name": "python",
   "nbconvert_exporter": "python",
   "pygments_lexer": "ipython2",
   "version": "2.7.12"
  }
 },
 "nbformat": 4,
 "nbformat_minor": 0
}
