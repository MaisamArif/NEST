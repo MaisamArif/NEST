{
 "cells": [
  {
   "cell_type": "code",
   "execution_count": 5,
   "metadata": {
    "collapsed": false
   },
   "outputs": [
    {
     "name": "stdout",
     "output_type": "stream",
     "text": [
      "{u'Details': {u'Username': u'Anonymous', u'Story': u'Rabbit Story'}, u'Characters': [{u'Emotion': u'Happy', u'Position': u'Right', u'Name': u'Rabbit', u'Social': 0.3}, {u'Emotion': u'Sad', u'Position': u'Left', u'Name': u'Turtle', u'Social': 0.2}]}\n"
     ]
    },
    {
     "data": {
      "text/plain": [
       "dict"
      ]
     },
     "execution_count": 5,
     "metadata": {},
     "output_type": "execute_result"
    }
   ],
   "source": [
    "import json, ast\n",
    "\n",
    "s = {\n",
    "   \"Details\": {\n",
    "      \"Username\": \"Anonymous\",\n",
    "      \"Story\": \"Rabbit Story\"\n",
    "   },\n",
    "   \"Characters\": [\n",
    "      {\n",
    "         \"Name\": \"Rabbit\",\n",
    "         \"Position\": \"Right\",\n",
    "         \"Social\": 0.3,\n",
    "         \"Emotion\": \"Happy\"\n",
    "      },\n",
    "      {\n",
    "         \"Name\": \"Turtle\",\n",
    "         \"Position\": \"Left\",\n",
    "         \"Social\": 0.2,\n",
    "         \"Emotion\": \"Sad\"\n",
    "      }\n",
    "   ]\n",
    "}\n",
    "j = json.dumps(s)\n",
    "a = json.loads(j)\n",
    "\n",
    "print a\n",
    "type(ast.literal_eval(j))"
   ]
  },
  {
   "cell_type": "code",
   "execution_count": 6,
   "metadata": {
    "collapsed": false
   },
   "outputs": [
    {
     "name": "stdout",
     "output_type": "stream",
     "text": [
      "{u'Details': {u'Username': u'Anonymous', u'Frame_start': 1, u'Story': u'Rabbit Story', u'Frame_end': 3}}\n"
     ]
    },
    {
     "data": {
      "text/plain": [
       "dict"
      ]
     },
     "execution_count": 6,
     "metadata": {},
     "output_type": "execute_result"
    }
   ],
   "source": [
    "s = {\n",
    "  \"Details\": {\n",
    "    \"Story\": \"Rabbit Story\",\n",
    "    \"Username\": \"Anonymous\",\n",
    "    \"Frame_start\": 1,\n",
    "    \"Frame_end\": 3\n",
    "  }\n",
    "}\n",
    "j = json.dumps(s)\n",
    "a = json.loads(j)\n",
    "\n",
    "print a\n",
    "type(ast.literal_eval(j))"
   ]
  },
  {
   "cell_type": "code",
   "execution_count": 7,
   "metadata": {
    "collapsed": false
   },
   "outputs": [
    {
     "name": "stdout",
     "output_type": "stream",
     "text": [
      "{u'Frames': [{u'Characters': [{u'Text': u'Hello Turtle1', u'Name': u'Rabbit'}, {u'Text': u'Hello Rabbit1', u'Name': u'Turtle'}]}, {u'Characters': [{u'Text': u'Hello Turtle2', u'Name': u'Rabbit'}, {u'Text': u'Hello Rabbit2', u'Name': u'Turtle'}]}], u'Details': {u'Username': u'Anonymous', u'Frame_start': 1, u'Story': u'Rabbit Story', u'Frame_end': 1}}\n"
     ]
    },
    {
     "data": {
      "text/plain": [
       "dict"
      ]
     },
     "execution_count": 7,
     "metadata": {},
     "output_type": "execute_result"
    }
   ],
   "source": [
    "s = {\n",
    "  \"Details\": {\n",
    "    \"Story\": \"Rabbit Story\",\n",
    "    \"Username\": \"Anonymous\",\n",
    "    \"Frame_start\": 1,\n",
    "    \"Frame_end\": 1\n",
    "  },\n",
    "\n",
    "  \"Frames\": [ \n",
    "    {\n",
    "      \"Characters\":[\n",
    "        {\n",
    "          \"Name\": \"Rabbit\",\n",
    "          \"Text\": \"Hello Turtle1\"\n",
    "        },\n",
    "\n",
    "        {\n",
    "          \"Name\": \"Turtle\",\n",
    "          \"Text\": \"Hello Rabbit1\"\n",
    "        }\n",
    "      ]\n",
    "    },\n",
    "\n",
    "    {\n",
    "      \"Characters\":[\n",
    "        {\n",
    "          \"Name\": \"Rabbit\",\n",
    "          \"Text\": \"Hello Turtle2\"\n",
    "        },\n",
    "        {\n",
    "          \"Name\": \"Turtle\",\n",
    "          \"Text\": \"Hello Rabbit2\"\n",
    "        }\n",
    "      ]\n",
    "    }\n",
    "  ]\n",
    "}\n",
    "j = json.dumps(s)\n",
    "a = json.loads(j)\n",
    "\n",
    "print a\n",
    "type(ast.literal_eval(j))"
   ]
  },
  {
   "cell_type": "code",
   "execution_count": 5,
   "metadata": {
    "collapsed": false
   },
   "outputs": [
    {
     "ename": "ImportError",
     "evalue": "No module named polls.models",
     "output_type": "error",
     "traceback": [
      "\u001b[1;31m---------------------------------------------------------------------------\u001b[0m",
      "\u001b[1;31mImportError\u001b[0m                               Traceback (most recent call last)",
      "\u001b[1;32m<ipython-input-5-ed59b45ca589>\u001b[0m in \u001b[0;36m<module>\u001b[1;34m()\u001b[0m\n\u001b[1;32m----> 1\u001b[1;33m \u001b[1;32mfrom\u001b[0m \u001b[0mpolls\u001b[0m\u001b[1;33m.\u001b[0m\u001b[0mmodels\u001b[0m \u001b[1;32mimport\u001b[0m \u001b[0mStory\u001b[0m\u001b[1;33m,\u001b[0m \u001b[0mCharacterObjects\u001b[0m\u001b[1;33m,\u001b[0m \u001b[0mFrame\u001b[0m\u001b[1;33m,\u001b[0m \u001b[0mCharacter\u001b[0m\u001b[1;33m\u001b[0m\u001b[0m\n\u001b[0m\u001b[0;32m      2\u001b[0m \u001b[1;32mfrom\u001b[0m \u001b[0mpolls\u001b[0m \u001b[1;32mimport\u001b[0m \u001b[0mviews\u001b[0m\u001b[1;33m\u001b[0m\u001b[0m\n\u001b[0;32m      3\u001b[0m \u001b[0mview\u001b[0m\u001b[1;33m.\u001b[0m\u001b[0mwhatever\u001b[0m\u001b[1;33m\u001b[0m\u001b[0m\n\u001b[0;32m      4\u001b[0m \u001b[1;33m\u001b[0m\u001b[0m\n",
      "\u001b[1;31mImportError\u001b[0m: No module named polls.models"
     ]
    }
   ],
   "source": [
    "from polls.models import Story, CharacterObjects, Frame, Character\n",
    "from polls import views\n",
    "view.whatever\n",
    "\n"
   ]
  },
  {
   "cell_type": "code",
   "execution_count": null,
   "metadata": {
    "collapsed": true
   },
   "outputs": [],
   "source": [
    "from polls.models import Story, CharacterObjects, Frame, Character\n",
    "from django.test import Client\n",
    "c = Client()\n",
    "c = Client(HTTP_USER_AGENT='Mozilla/5.0')\n",
    "response = c.post('/polls/initialization', {\"Details\": {\"Username\": \"Anonymous\", \"Story\": \"Rabbit Story\"}, \"Characters\": [{\"Emotion\": \"Happy\", \"Position\": \"Right\", \"Name\": \"Rabbit\", \"Social\": 0.3}, {\"Emotion\": \"Sad\", \"Position\": \"Left\", \"Name\": \"Turtle\", \"Social\": 0.2}]}, content_type=\"application/json\")\n",
    "response = c.post('/polls/continue',{u'Details': {u'Username': u'Anonymous', u'Frame_start': 1, u'Story': u'Rabbit Story', u'Frame_end': 3}}, content_type=\"application/json\")\n",
    "response = c.post('/polls/update_text',{u'Frames': [{u'Characters': [{u'Text': u'Hello Turtle1', u'Name': u'Rabbit'}, {u'Text': u'Hello Rabbit1', u'Name': u'Turtle'}]}, {u'Characters': [{u'Text': u'Hello Turtle2', u'Name': u'Rabbit'}, {u'Text': u'Hello Rabbit2', u'Name': u'Turtle'}]}], u'Details': {u'Username': u'Anonymous', u'Frame_start': 1, u'Story': u'Rabbit Story', u'Frame_end': 2}}, content_type=\"application/json\")\n",
    "\n",
    "\n",
    "response.status_code\n",
    "\n",
    "response.content\n"
   ]
  }
 ],
 "metadata": {
  "kernelspec": {
   "display_name": "Python [Root]",
   "language": "python",
   "name": "Python [Root]"
  },
  "language_info": {
   "codemirror_mode": {
    "name": "ipython",
    "version": 2
   },
   "file_extension": ".py",
   "mimetype": "text/x-python",
   "name": "python",
   "nbconvert_exporter": "python",
   "pygments_lexer": "ipython2",
   "version": "2.7.12"
  }
 },
 "nbformat": 4,
 "nbformat_minor": 0
}
